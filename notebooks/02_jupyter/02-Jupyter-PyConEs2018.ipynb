{
 "cells": [
  {
   "cell_type": "markdown",
   "metadata": {},
   "source": [
    "# Introduccion Jupyter notebook\n"
   ]
  },
  {
   "cell_type": "markdown",
   "metadata": {},
   "source": [
    "Jupyter notebook es una aplicación web que permite elaborar documentos interactivos que combinan código con texto, html, gráficos y otros recursos visuales. Esto lo convierte en una herramienta ideal para la enseñanza y la elaboración de trabajos en los que ser requiera combinar la ejecución de código con una explicación del mismo.\n",
    "\n",
    "En esta breve introducción vamos a presentar las características principales del notebook, y a explicar las diferentes funcionalidades y tipos de celdas que estan disponibles.\n",
    "\n",
    "Durante todo este taller de indtroducción al análisis de datos usaremos Jupyter notebooks para presentar los contenidos y ejercicios."
   ]
  },
  {
   "cell_type": "markdown",
   "metadata": {},
   "source": [
    "## Índice\n",
    "1. **[Tipos de celda](#1.-Tipos-de-celda)**\n",
    "    - [1.1 Código](#1.1-Celdas-de-código)\n",
    "    - [1.2 Markdown](#1.2-Celdas-de-markdown)\n",
    "    - [1.3 Celdas sin renderizar](#1.3-Celdas-sin-renderizar)\n",
    "2. **[Barra de herramientas](#2.-Barra-de-herramientas)**\n",
    "3. **[Comandos mágicos](#3.-Comandos-mágicos)**\n",
    "4. **[Atajos de teclado](#4.-Atajos-de-teclado)**"
   ]
  },
  {
   "cell_type": "markdown",
   "metadata": {},
   "source": [
    "## [1.1](#Índice) Celdas de código"
   ]
  },
  {
   "cell_type": "markdown",
   "metadata": {},
   "source": [
    "Los notebooks estan pensados para poder ejecutar celdas de código. En este tutorial usaremos Python, pero tambien es posible utilizarlo con otros lenguajes de programación como Julia, R, C, etc. Esta posibilidad de utilizar diferentes lenguajes, se debe a que la interfaz de Jupyter notebook es compatible con diferentes kernels.\n",
    "\n",
    "Un kernel es el lenguaje de programación usado en el \"backend\" de Jupyter para ejecutar las celdas de código. Por ejemplo, en este caso estamos utilizando un kernel de Python 3.6, pero seria posible usar otros como el kernel de Python 2.7, un kernel de Julia, o de cualquier otro lenguaje compatible con Jupyter. \n",
    "\n",
    "En estas celdas es donde llevaremos a cabo nuestros análisis. Es posible ejecutarlas en el orden que queramos, ya que no es necesario que se ejecuten de forma secuencial."
   ]
  },
  {
   "cell_type": "code",
   "execution_count": 1,
   "metadata": {},
   "outputs": [
    {
     "name": "stdout",
     "output_type": "stream",
     "text": [
      "Hola mundo\n"
     ]
    }
   ],
   "source": [
    "string = \"Hola mundo\"\n",
    "print(string)"
   ]
  },
  {
   "cell_type": "markdown",
   "metadata": {},
   "source": [
    "### No hace falta print para representar una variable en el output de la celda"
   ]
  },
  {
   "cell_type": "code",
   "execution_count": 2,
   "metadata": {},
   "outputs": [
    {
     "data": {
      "text/plain": [
       "('Hola mundo', 1234)"
      ]
     },
     "execution_count": 2,
     "metadata": {},
     "output_type": "execute_result"
    }
   ],
   "source": [
    "data = string, 1234\n",
    "data"
   ]
  },
  {
   "cell_type": "code",
   "execution_count": 3,
   "metadata": {},
   "outputs": [
    {
     "data": {
      "text/plain": [
       "'Hola mundo'"
      ]
     },
     "execution_count": 3,
     "metadata": {},
     "output_type": "execute_result"
    }
   ],
   "source": [
    "data[0]"
   ]
  },
  {
   "cell_type": "markdown",
   "metadata": {},
   "source": [
    "### Las celdas de código comparten espacio de nombres"
   ]
  },
  {
   "cell_type": "code",
   "execution_count": 4,
   "metadata": {},
   "outputs": [],
   "source": [
    "def suma_dos_numeros(x, y):\n",
    "    return x + y\n",
    "\n",
    "num_1 = 6\n",
    "num_2 = 5"
   ]
  },
  {
   "cell_type": "code",
   "execution_count": 5,
   "metadata": {},
   "outputs": [
    {
     "name": "stdout",
     "output_type": "stream",
     "text": [
      "Los números 6 y 5 suman 11\n"
     ]
    }
   ],
   "source": [
    "print(\"Los números {} y {} suman {}\".format(num_1, num_2, suma_dos_numeros(num_1, num_2)))"
   ]
  },
  {
   "cell_type": "markdown",
   "metadata": {},
   "source": [
    "## [1.2](#Índice) Celdas de markdown"
   ]
  },
  {
   "cell_type": "markdown",
   "metadata": {},
   "source": [
    "Una de las mayores ventajas de Jupyter es la capacidad de escribir Markdown en las celdas para anyadir explicaciones y comentarios a las celdas de código, pero también ecuaciones en latex y mucho más. Esto es una herramienta muy potente para explicar a alguien o a ti mismo lo que tu código hace, para hacer un informe, un trabajo, escribir en un blog...\n",
    "\n",
    "Markdown es un lenguaje aparte, no te preocupes por él demasiado ahora, irás aprendiendo sobre la marcha... Para cuando lo vayas necesitando, aquí tienes una [chuleta](https://github.com/adam-p/markdown-here/wiki/Markdown-Cheatsheet)."
   ]
  },
  {
   "cell_type": "markdown",
   "metadata": {},
   "source": []
  },
  {
   "cell_type": "markdown",
   "metadata": {},
   "source": [
    "<h1>Titulo</h1>\n",
    "\n",
    "* lista1\n",
    "\n",
    "* lista2\n",
    "\n",
    "`èsto es una pieza de código`\n",
    "\n",
    "```python\n",
    "\n",
    "def fn():\n",
    "    #esto es una funcion\n",
    "    pass\n",
    "```"
   ]
  },
  {
   "cell_type": "markdown",
   "metadata": {},
   "source": [
    "## [1.3](#Índice) Celdas sin renderizar"
   ]
  },
  {
   "cell_type": "raw",
   "metadata": {},
   "source": [
    "Esto es una celda que no va a renderizarse\n",
    "\n",
    "def function():\n",
    "    print(\"Hello world\")\n",
    "    \n",
    "function()\n",
    "\n",
    "# Not a title"
   ]
  },
  {
   "cell_type": "markdown",
   "metadata": {},
   "source": [
    "# [2.](#Índice) Barra de herramientas"
   ]
  },
  {
   "cell_type": "markdown",
   "metadata": {},
   "source": [
    "En la Parte superior del notebook podeis encontrar la barra de herramientas. Cada uno de los botones ofrece acceso rapido a una funcionalidad diferente."
   ]
  },
  {
   "cell_type": "markdown",
   "metadata": {},
   "source": [
    "<div id=\"maintoolbar-container\" class=\"container toolbar\"><div class=\"btn-group\" id=\"save-notbook\"><button class=\"btn btn-default\" title=\"Save and Checkpoint\" data-jupyter-action=\"jupyter-notebook:save-notebook\"><i class=\"fa-save fa\"></i></button></div><div class=\"btn-group\" id=\"insert_above_below\"><button class=\"btn btn-default\" title=\"insert cell below\" data-jupyter-action=\"jupyter-notebook:insert-cell-below\"><i class=\"fa-plus fa\"></i></button></div><div class=\"btn-group\" id=\"cut_copy_paste\"><button class=\"btn btn-default\" title=\"cut selected cells\" data-jupyter-action=\"jupyter-notebook:cut-cell\"><i class=\"fa-cut fa\"></i></button><button class=\"btn btn-default\" title=\"copy selected cells\" data-jupyter-action=\"jupyter-notebook:copy-cell\"><i class=\"fa-copy fa\"></i></button><button class=\"btn btn-default\" title=\"paste cells below\" data-jupyter-action=\"jupyter-notebook:paste-cell-below\"><i class=\"fa-paste fa\"></i></button></div><div class=\"btn-group\" id=\"move_up_down\"><button class=\"btn btn-default\" title=\"move selected cells up\" data-jupyter-action=\"jupyter-notebook:move-cell-up\"><i class=\"fa-arrow-up fa\"></i></button><button class=\"btn btn-default\" title=\"move selected cells down\" data-jupyter-action=\"jupyter-notebook:move-cell-down\"><i class=\"fa-arrow-down fa\"></i></button></div><div class=\"btn-group\" id=\"run_int\"><button class=\"btn btn-default\" title=\"Run\" data-jupyter-action=\"jupyter-notebook:run-cell-and-select-next\"><i class=\"fa-step-forward fa\"></i><span class=\"toolbar-btn-label\">Run</span></button><button class=\"btn btn-default\" title=\"interrupt the kernel\" data-jupyter-action=\"jupyter-notebook:interrupt-kernel\"><i class=\"fa-stop fa\"></i></button><button class=\"btn btn-default\" title=\"restart the kernel (with dialog)\" data-jupyter-action=\"jupyter-notebook:confirm-restart-kernel\"><i class=\"fa-repeat fa\"></i></button><button class=\"btn btn-default\" title=\"restart the kernel, then re-run the whole notebook (with dialog)\" data-jupyter-action=\"jupyter-notebook:confirm-restart-kernel-and-run-all-cells\"><i class=\"fa-forward fa\"></i></button></div><select id=\"cell_type\" class=\"form-control select-xs\"><option value=\"code\">Code</option><option value=\"markdown\">Markdown</option><option value=\"raw\">Raw NBConvert</option><option value=\"heading\">Heading</option><option value=\"multiselect\" disabled=\"disabled\" style=\"display: none;\">-</option></select><div class=\"btn-group\"><button class=\"btn btn-default\" title=\"open the command palette\" data-jupyter-action=\"jupyter-notebook:show-command-palette\"><i class=\"fa-keyboard-o fa\"></i></button></div></div>"
   ]
  },
  {
   "cell_type": "markdown",
   "metadata": {},
   "source": [
    "* <button class=\"btn btn-default\" title=\"Save and Checkpoint\" data-jupyter-action=\"jupyter-notebook:save-notebook\"><i class=\"fa-save fa\"></i></button>  Guardar el notebook.\n",
    "\n",
    "* <button class=\"btn btn-default\" title=\"insert cell below\" data-jupyter-action=\"jupyter-notebook:insert-cell-below\"><i class=\"fa-plus fa\"></i></button> Anyadir una celda nueva a continuacion de la que se tiene seleccionada actualmente.\n",
    "\n",
    "* <button class=\"btn btn-default\" title=\"cut selected cells\" data-jupyter-action=\"jupyter-notebook:cut-cell\"><i class=\"fa-cut fa\"></i></button> Cortar celdas seleccionadas\n",
    "\n",
    "* <button class=\"btn btn-default\" title=\"copy selected cells\" data-jupyter-action=\"jupyter-notebook:copy-cell\"><i class=\"fa-copy fa\"></i></button> Copiar celdas seleccionadas\n",
    "\n",
    "* <button class=\"btn btn-default\" title=\"paste cells below\" data-jupyter-action=\"jupyter-notebook:paste-cell-below\"><i class=\"fa-paste fa\"></i></button> Pegar celdas a continuacion de la celda seleccionada\n",
    "\n",
    "* <button class=\"btn btn-default\" title=\"move selected cells up\" data-jupyter-action=\"jupyter-notebook:move-cell-up\"><i class=\"fa-arrow-up fa\"></i></button> Desplazar celdas seleccionadas hacia arriba\n",
    "\n",
    "* <button class=\"btn btn-default\" title=\"move selected cells down\" data-jupyter-action=\"jupyter-notebook:move-cell-down\"><i class=\"fa-arrow-down fa\"></i></button> Desplazar celdas seleccionadas hacia abajo\n",
    "\n",
    "* <button class=\"btn btn-default\" title=\"Run\" data-jupyter-action=\"jupyter-notebook:run-cell-and-select-next\"><i class=\"fa-step-forward fa\"></i><span class=\"toolbar-btn-label\">Run</span></button> Ejecuta la celda seleccionada\n",
    "\n",
    "* <button class=\"btn btn-default\" title=\"interrupt the kernel\" data-jupyter-action=\"jupyter-notebook:interrupt-kernel\"><i class=\"fa-stop fa\"></i></button> Interrumpe la ejecucion de codigo\n",
    "\n",
    "* <button class=\"btn btn-default\" title=\"restart the kernel (with dialog)\" data-jupyter-action=\"jupyter-notebook:confirm-restart-kernel\"><i class=\"fa-repeat fa\"></i></button> Reinicia el kernel del interprete de codigo\n",
    "\n",
    "* <button class=\"btn btn-default\" title=\"restart the kernel, then re-run the whole notebook (with dialog)\" data-jupyter-action=\"jupyter-notebook:confirm-restart-kernel-and-run-all-cells\"><i class=\"fa-forward fa\"></i></button> Reinicia el kernel y ejecuta todas las celdas en orden\n",
    "\n",
    "* <select id=\"cell_type\" class=\"form-control select-xs\" style=\"width: 6em;\"><option value=\"code\">Code</option><option value=\"markdown\">Markdown</option><option value=\"raw\">Raw NBConvert</option><option value=\"heading\">Heading</option><option value=\"multiselect\" disabled=\"disabled\" style=\"display: none; width: 6em;\">-</option></select> Selecciona el tipo de celda"
   ]
  },
  {
   "cell_type": "markdown",
   "metadata": {},
   "source": [
    "# [3.](#Índice) Comandos mágicos"
   ]
  },
  {
   "cell_type": "markdown",
   "metadata": {},
   "source": [
    "Existen diferentes tipos de comando mágicos en Jupyter. Los que empiezan por `%` se aplican solo a una linea de código, y los que empiezan por `%%` se aplican a la celda completa. \n",
    "\n",
    "Para más información sobre los comandos mágicos haz click [aquí](https://ipython.readthedocs.io/en/stable/interactive/magics.html)."
   ]
  },
  {
   "cell_type": "markdown",
   "metadata": {},
   "source": [
    "### Medir el tiempo de ejecucion de una celda"
   ]
  },
  {
   "cell_type": "code",
   "execution_count": 9,
   "metadata": {},
   "outputs": [
    {
     "name": "stdout",
     "output_type": "stream",
     "text": [
      "CPU times: user 0 ns, sys: 152 µs, total: 152 µs\n",
      "Wall time: 61.5 µs\n"
     ]
    }
   ],
   "source": [
    "%%time\n",
    "var = [1+i for i in range(1000)]"
   ]
  },
  {
   "cell_type": "code",
   "execution_count": 19,
   "metadata": {},
   "outputs": [
    {
     "name": "stdout",
     "output_type": "stream",
     "text": [
      "45.3 µs ± 13.8 µs per loop (mean ± std. dev. of 7 runs, 100 loops each)\n"
     ]
    }
   ],
   "source": [
    "%timeit -n 100 var = [1+i for i in range(1000)]"
   ]
  },
  {
   "cell_type": "code",
   "execution_count": 20,
   "metadata": {},
   "outputs": [
    {
     "name": "stdout",
     "output_type": "stream",
     "text": [
      "40.1 µs ± 3.52 µs per loop (mean ± std. dev. of 7 runs, 100 loops each)\n"
     ]
    }
   ],
   "source": [
    "%%timeit -n 100\n",
    "var = [1+i for i in range(1000)]"
   ]
  },
  {
   "cell_type": "markdown",
   "metadata": {},
   "source": [
    "### Exportar celda como archivo"
   ]
  },
  {
   "cell_type": "code",
   "execution_count": 11,
   "metadata": {},
   "outputs": [
    {
     "name": "stdout",
     "output_type": "stream",
     "text": [
      "Overwriting text.txt\n"
     ]
    }
   ],
   "source": [
    "%%file text.txt\n",
    "\"PyconES 2018\""
   ]
  },
  {
   "cell_type": "markdown",
   "metadata": {},
   "source": [
    "### Escribir HTML en una celda"
   ]
  },
  {
   "cell_type": "code",
   "execution_count": 12,
   "metadata": {},
   "outputs": [
    {
     "data": {
      "text/html": [
       "<div style=\"background-color: red; width=1em; height: 3em; text-align: center;\">Un div rojo</div> "
      ],
      "text/plain": [
       "<IPython.core.display.HTML object>"
      ]
     },
     "metadata": {},
     "output_type": "display_data"
    }
   ],
   "source": [
    "%%HTML\n",
    "<div style=\"background-color: red; width=1em; height: 3em; text-align: center;\">Un div rojo</div> "
   ]
  },
  {
   "cell_type": "markdown",
   "metadata": {},
   "source": [
    "<div style=\"background-color: red; width=1em; height: 3em; text-align: center;\">Un div rojo</div> "
   ]
  },
  {
   "cell_type": "markdown",
   "metadata": {},
   "source": [
    "# [4.](#Índice) Atajos de teclado"
   ]
  },
  {
   "cell_type": "markdown",
   "metadata": {},
   "source": [
    "Además, existen multiples atajos de teclado para llevar a cabo las funciones mas comunes. Se puede acceder a la lsita completa de atajos en la pestaña `help` del menú superior, pero a continuación expondrmos algunos de los más útiles.\n",
    "\n",
    "- `Shift + Enter`: Ejecutar celda.\n",
    "- `Alt + Enter`: Ejecutar celda y añadir una celda vacia a continuación de la celda actual.\n",
    "- `Esc`(en modo edición): Pasar a modo comando\n",
    "- `m`(en modo comando): Convertir la celda a tipo Markdown.\n",
    "- `y`(en modo comando): Convertir la celda a tipo código.\n",
    "- `Enter`(en modo comando): Pasar a modo edición."
   ]
  },
  {
   "cell_type": "code",
   "execution_count": null,
   "metadata": {},
   "outputs": [],
   "source": []
  }
 ],
 "metadata": {
  "kernelspec": {
   "display_name": "Python 3",
   "language": "python",
   "name": "python3"
  },
  "language_info": {
   "codemirror_mode": {
    "name": "ipython",
    "version": 3
   },
   "file_extension": ".py",
   "mimetype": "text/x-python",
   "name": "python",
   "nbconvert_exporter": "python",
   "pygments_lexer": "ipython3",
   "version": "3.6.5"
  }
 },
 "nbformat": 4,
 "nbformat_minor": 2
}
