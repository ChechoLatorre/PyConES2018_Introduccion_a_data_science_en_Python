{
 "cells": [
  {
   "cell_type": "code",
   "execution_count": null,
   "metadata": {
    "collapsed": true
   },
   "outputs": [],
   "source": [
    "import sys"
   ]
  },
  {
   "cell_type": "code",
   "execution_count": null,
   "metadata": {
    "collapsed": true
   },
   "outputs": [],
   "source": [
    "import numpy as np"
   ]
  },
  {
   "cell_type": "markdown",
   "metadata": {},
   "source": [
    "# Numpy"
   ]
  },
  {
   "cell_type": "markdown",
   "metadata": {},
   "source": [
    "Numpy proporciona un nuevo contenedor de datos a Python, los `ndarray`s, además de funcionalidad especializada para poder manipularlos de forma eficiente.\n",
    "\n",
    "Hablar de manipulación de datos en Python es sinónimo de Numpy y prácticamente todo el ecosistema científico de Python está construido sobre Numpy. Digamos que Numpy es el ladrillo que ha permitido levantar edificios tan sólidos como Pandas, Matplotlib, Scipy, scikit-learn,...\n",
    "\n",
    "**Índice**\n",
    "\n",
    "* [¿Por qué un nuevo contenedor de datos?](#%C2%BFPor-qu%C3%A9-un-nuevo-contenedor-de-datos?)\n",
    "* [Tipos de datos](#Tipos-de-datos)\n",
    "* [Creación de `numpy` arrays](#Creaci%C3%B3n-de-numpy-arrays)\n",
    "* [Operaciones disponibles más típicas](#Operaciones-disponibles-m%C3%A1s-t%C3%ADpicas)\n",
    "* [Metadatos y anatomía de un `ndarray`](#Metadatos-y-anatom%C3%ADa-de-un-ndarray)\n",
    "* [Indexación](#Indexaci%C3%B3n)\n",
    "* [Broadcasting](#Broadcasting)\n",
    "* [`ndarrays` estructurados y `recarray`s](#ndarrays-estructurados-y-recarrays)\n",
    "* [Subarrays, vistas y copias](#Subarrays,-vistas-y-copias)\n",
    "* [¿Cómo funcionan los ejes de un `ndarray`?](#%C2%BFC%C3%B3mo-funcionan-los-ejes-en-un-ndarray?)\n",
    "* [Reformateo de `ndarray`s](#Reformateo-de-ndarrays)\n",
    "* [Concatenación y partición de `ndarray`s](#Concatenaci%C3%B3n-y-partici%C3%B3n-de-ndarrays)\n",
    "* [Funciones matemáticas, funciones universales *ufuncs* y vectorización](#Funciones-matem%C3%A1ticas,-funciones-universales-ufuncs-y-vectorizaci%C3%B3n)\n",
    "* [Estadística](#Estad%C3%ADstica)\n",
    "* [Ordenando, buscando y contando](#Ordenando,-buscando-y-contando)\n",
    "* [Polinomios](#Polinomios)\n",
    "* [Álgebra lineal](#%C3%81lgebra-lineal)\n",
    "* [Manipulación de `ndarray`s](#Manipulaci%C3%B3n-de-ndarrays)\n",
    "* [Manejo de valores especiales](#Manejo-de-valores-especiales)\n",
    "* [Módulos de interés dentro de numpy](#M%C3%B3dulos-de-inter%C3%A9s-dentro-de-numpy)\n",
    "* [Cálculo matricial](#C%C3%A1lculo-matricial)"
   ]
  },
  {
   "cell_type": "markdown",
   "metadata": {},
   "source": [
    "## ¿Por qué un nuevo contenedor de datos?"
   ]
  },
  {
   "cell_type": "markdown",
   "metadata": {},
   "source": [
    "En python, disponemos, de partida, de diversos contenedores de datos, listas, tuplas, diccionarios, conjuntos,..., ¿por qué añadir uno más?.\n",
    "\n",
    "¡Por conveniencia!, a pesar de la pérdida de flexibilidad. Es una solución de compromiso.\n",
    "\n",
    "* Uso de memoria más eficiente: Por ejemplo, una lista puede contener distintos tipos de objetos lo que provoca que python deba guardar información del tipo de cada elemento contenido en la lista. Por otra parte, un `ndarray` es contiene tipos homogéneos, es decir, todos los elementos son del mismo tipo, por lo que la información del tipo solo debe guardarse una vez independientemente del número de elementos que tenda el `ndarray`.\n",
    "\n",
    "\n",
    "![arrays_vs_listas](../../images/03_01_array_vs_list.png)\n",
    "***(imagen por Jake VanderPlas y extraída [de GitHub](https://github.com/jakevdp/PythonDataScienceHandbook)).***\n",
    "\n",
    "* Más rápido: Por ejemplo, en una lista que consta de elementos con diferentes tipos Python debe realizar trabajos extra para saber si los tipos son compatibles con las operaciones que estamos realizando. Cuando trabajamos con un `ndarray` ya podemos saber eso de partida y podemos tener operaciones más eficientes (además de que mucha funcionalidad está programada en C, C++, Cython, Fortran).\n",
    "\n",
    "\n",
    "* Operaciones vectorizadas\n",
    "\n",
    "\n",
    "* Funcionalidad extra: Muchas operaciones de álgebra lineal, transformadas rápidas de Fourier, estadítica básica, histogramas,...\n",
    "\n",
    "\n",
    "* Acceso a los elementos más conveniente: Indexación más avanzada que con los tipos normales de Python\n",
    "\n",
    "\n",
    "* ..."
   ]
  },
  {
   "cell_type": "markdown",
   "metadata": {},
   "source": [
    "Uso de memoria"
   ]
  },
  {
   "cell_type": "code",
   "execution_count": 3,
   "metadata": {},
   "outputs": [
    {
     "name": "stdout",
     "output_type": "stream",
     "text": [
      "5 millones de elementos\n",
      "22500060\n",
      "20000048\n",
      "\n",
      "100 elementos\n",
      "508\n",
      "148\n"
     ]
    }
   ],
   "source": [
    "# AVISO: SYS.GETSYZEOF NO ES FIABLE\n",
    "\n",
    "lista = list(range(5_000_000))\n",
    "arr = np.array(lista, dtype=np.uint32)\n",
    "print(\"5 millones de elementos\")\n",
    "print(sys.getsizeof(lista))\n",
    "print(sys.getsizeof(arr))\n",
    "\n",
    "print()\n",
    "\n",
    "lista = list(range(100))\n",
    "arr = np.array(lista, dtype=np.uint8)\n",
    "print(\"100 elementos\")\n",
    "print(sys.getsizeof(lista))\n",
    "print(sys.getsizeof(arr))"
   ]
  },
  {
   "cell_type": "markdown",
   "metadata": {},
   "source": [
    "Velocidad de operaciones"
   ]
  },
  {
   "cell_type": "code",
   "execution_count": 4,
   "metadata": {},
   "outputs": [
    {
     "name": "stdout",
     "output_type": "stream",
     "text": [
      "77.7 ms ± 5.35 ms per loop (mean ± std. dev. of 7 runs, 10 loops each)\n",
      "499999500000\n"
     ]
    }
   ],
   "source": [
    "a = list(range(1000000))\n",
    "%timeit sum(a)\n",
    "print(sum(a))"
   ]
  },
  {
   "cell_type": "code",
   "execution_count": 5,
   "metadata": {},
   "outputs": [
    {
     "name": "stdout",
     "output_type": "stream",
     "text": [
      "647 µs ± 9.1 µs per loop (mean ± std. dev. of 7 runs, 1000 loops each)\n",
      "1783293664\n"
     ]
    }
   ],
   "source": [
    "a = np.array(a)\n",
    "%timeit np.sum(a)\n",
    "print(np.sum(a))"
   ]
  },
  {
   "cell_type": "markdown",
   "metadata": {},
   "source": [
    "Operaciones vectorizadas"
   ]
  },
  {
   "cell_type": "code",
   "execution_count": 6,
   "metadata": {},
   "outputs": [
    {
     "name": "stdout",
     "output_type": "stream",
     "text": [
      "[1, 1, 1, 3, 4, 3]\n",
      "Fail\n"
     ]
    }
   ],
   "source": [
    "# Suma de dos vectores elemento a elemento\n",
    "a = [1, 1, 1]\n",
    "b = [3, 4, 3]\n",
    "print(a + b)\n",
    "print('Fail')"
   ]
  },
  {
   "cell_type": "code",
   "execution_count": 7,
   "metadata": {},
   "outputs": [
    {
     "name": "stdout",
     "output_type": "stream",
     "text": [
      "[4 5 4]\n",
      "\\o/\n"
     ]
    }
   ],
   "source": [
    "# Suma de dos vectores elemento a elemento\n",
    "a = np.array([1, 1, 1])\n",
    "b = np.array([3, 4, 3])\n",
    "print(a + b)\n",
    "print('\\o/')"
   ]
  },
  {
   "cell_type": "markdown",
   "metadata": {},
   "source": [
    "Funcionalidad más conveniente"
   ]
  },
  {
   "cell_type": "code",
   "execution_count": 8,
   "metadata": {},
   "outputs": [
    {
     "name": "stdout",
     "output_type": "stream",
     "text": [
      "[0, 1, 3, 6, 10, 15, 21, 28, 36, 45, 55, 66, 78, 91, 105, 120, 136, 153, 171, 190, 210, 231, 253, 276, 300, 325, 351, 378, 406, 435, 465, 496, 528, 561, 595, 630, 666, 703, 741, 780, 820, 861, 903, 946, 990, 1035, 1081, 1128, 1176, 1225, 1275, 1326, 1378, 1431, 1485, 1540, 1596, 1653, 1711, 1770, 1830, 1891, 1953, 2016, 2080, 2145, 2211, 2278, 2346, 2415, 2485, 2556, 2628, 2701, 2775, 2850, 2926, 3003, 3081, 3160, 3240, 3321, 3403, 3486, 3570, 3655, 3741, 3828, 3916, 4005, 4095, 4186, 4278, 4371, 4465, 4560, 4656, 4753, 4851, 4950]\n",
      "[   0    1    3    6   10   15   21   28   36   45   55   66   78   91  105\n",
      "  120  136  153  171  190  210  231  253  276  300  325  351  378  406  435\n",
      "  465  496  528  561  595  630  666  703  741  780  820  861  903  946  990\n",
      " 1035 1081 1128 1176 1225 1275 1326 1378 1431 1485 1540 1596 1653 1711 1770\n",
      " 1830 1891 1953 2016 2080 2145 2211 2278 2346 2415 2485 2556 2628 2701 2775\n",
      " 2850 2926 3003 3081 3160 3240 3321 3403 3486 3570 3655 3741 3828 3916 4005\n",
      " 4095 4186 4278 4371 4465 4560 4656 4753 4851 4950]\n"
     ]
    }
   ],
   "source": [
    "# suma acumulada\n",
    "a = list(range(100))\n",
    "print([sum(a[:i+1]) for i in a])\n",
    "\n",
    "a = np.array(a)\n",
    "print(a.cumsum())"
   ]
  },
  {
   "cell_type": "markdown",
   "metadata": {},
   "source": [
    "Acceso a elementos más conveniente"
   ]
  },
  {
   "cell_type": "code",
   "execution_count": 9,
   "metadata": {},
   "outputs": [
    {
     "name": "stdout",
     "output_type": "stream",
     "text": [
      "acceso a la primera fila:  [11, 12, 13]\n",
      "acceso a la primera columna:  [11, 12, 13]  Fail!!!\n"
     ]
    }
   ],
   "source": [
    "a = [[11, 12, 13],\n",
    "     [21, 22, 23],\n",
    "     [31, 32, 33]]\n",
    "print('acceso a la primera fila: ', a[0])\n",
    "print('acceso a la primera columna: ', a[:][0], ' Fail!!!')"
   ]
  },
  {
   "cell_type": "code",
   "execution_count": 10,
   "metadata": {},
   "outputs": [
    {
     "name": "stdout",
     "output_type": "stream",
     "text": [
      "acceso a la primera fila:  [11 12 13]\n",
      "acceso a la primera columna:  [11 21 31]  \\o/\n"
     ]
    }
   ],
   "source": [
    "a = np.array(a)\n",
    "print('acceso a la primera fila: ', a[0])\n",
    "print('acceso a la primera columna: ', a[:,0], ' \\o/')"
   ]
  },
  {
   "cell_type": "markdown",
   "metadata": {},
   "source": [
    "..."
   ]
  },
  {
   "cell_type": "markdown",
   "metadata": {},
   "source": [
    "Recapitulando un poco.\n",
    "\n",
    "***Los `ndarray`s son contenedores multidimensionales, homogéneos con elementos de tamaño fijo, de dimensión predefinida.***"
   ]
  },
  {
   "cell_type": "markdown",
   "metadata": {},
   "source": [
    "## Tipos de datos"
   ]
  },
  {
   "cell_type": "markdown",
   "metadata": {},
   "source": [
    "Como los arrays deben ser homogéneos tenemos tipos de datos. Algunos de ellos se pueden ver en la tabla de más abajo:\n",
    "\n",
    "| Data type\t    | Descripción |\n",
    "|---------------|-------------|\n",
    "| ``bool_``     | Booleano (True o False) almacenado como un Byte |\n",
    "| ``int_``      | El tipo entero por defecto (igual que el `long` de C; normalmente será `int64` o `int32`)| \n",
    "| ``intc``      | Idéntico al ``int`` de C (normalmente `int32` o `int64`)| \n",
    "| ``intp``      | Entero usado para indexación (igual que `ssize_t` en C; normalmente `int32` o `int64`)| \n",
    "| ``int8``      | Byte (de -128 a 127)| \n",
    "| ``int16``     | Entero (de -32768 a 32767)|\n",
    "| ``int32``     | Entero (de -2147483648 a 2147483647)|\n",
    "| ``int64``     | Entero (de -9223372036854775808 a 9223372036854775807)| \n",
    "| ``uint8``     | Entero sin signo (de 0 a 255)| \n",
    "| ``uint16``    | Entero sin signo (de 0 a 65535)| \n",
    "| ``uint32``    | Entero sin signo (de 0 a 4294967295)| \n",
    "| ``uint64``    | Entero sin signo (de 0 a 18446744073709551615)| \n",
    "| ``float_``    | Atajo para ``float64``.| \n",
    "| ``float16``   | Half precision float: un bit para el signo, 5 bits para el exponente, 10 bits para la mantissa| \n",
    "| ``float32``   | Single precision float: un bit para el signo, 8 bits para el exponente, 23 bits para la mantissa|\n",
    "| ``float64``   | Double precision float: un bit para el signo, 11 bits para el exponente, 52 bits para la mantissa|\n",
    "| ``complex_``  | Atajo para `complex128`.| \n",
    "| ``complex64`` | Número complejo, represantedo por dos *floats* de 32-bits| \n",
    "| ``complex128``| Número complejo, represantedo por dos *floats* de 64-bits| \n",
    "\n",
    "Es posible tener una especificación de tipos más detallada, pudiendo especificar números con *big endian* o *little endian*. No vamos a ver esto en este momento.\n",
    "\n",
    "El tipo por defecto que usa `numpy` al crear un *ndarray* es `np.float_`, siempre que no específiquemos explícitamente el tipo a usar."
   ]
  },
  {
   "cell_type": "markdown",
   "metadata": {},
   "source": [
    "Por ejemplo, un array de tipo `np.uint8` puede tener los siguientes valores:"
   ]
  },
  {
   "cell_type": "code",
   "execution_count": 33,
   "metadata": {},
   "outputs": [
    {
     "name": "stdout",
     "output_type": "stream",
     "text": [
      "0 (0, 0, 0, 0, 0, 0, 0, 0)\n",
      "1 (0, 0, 0, 0, 0, 0, 0, 1)\n",
      "2 (0, 0, 0, 0, 0, 0, 1, 0)\n",
      "3 (0, 0, 0, 0, 0, 0, 1, 1)\n",
      "4 (0, 0, 0, 0, 0, 1, 0, 0)\n",
      "5 (0, 0, 0, 0, 0, 1, 0, 1)\n",
      "6 (0, 0, 0, 0, 0, 1, 1, 0)\n",
      "7 (0, 0, 0, 0, 0, 1, 1, 1)\n",
      "8 (0, 0, 0, 0, 1, 0, 0, 0)\n",
      "9 (0, 0, 0, 0, 1, 0, 0, 1)\n",
      "10 (0, 0, 0, 0, 1, 0, 1, 0)\n",
      "11 (0, 0, 0, 0, 1, 0, 1, 1)\n",
      "12 (0, 0, 0, 0, 1, 1, 0, 0)\n",
      "13 (0, 0, 0, 0, 1, 1, 0, 1)\n",
      "14 (0, 0, 0, 0, 1, 1, 1, 0)\n",
      "15 (0, 0, 0, 0, 1, 1, 1, 1)\n",
      "16 (0, 0, 0, 1, 0, 0, 0, 0)\n",
      "17 (0, 0, 0, 1, 0, 0, 0, 1)\n",
      "18 (0, 0, 0, 1, 0, 0, 1, 0)\n",
      "19 (0, 0, 0, 1, 0, 0, 1, 1)\n",
      "20 (0, 0, 0, 1, 0, 1, 0, 0)\n",
      "21 (0, 0, 0, 1, 0, 1, 0, 1)\n",
      "22 (0, 0, 0, 1, 0, 1, 1, 0)\n",
      "23 (0, 0, 0, 1, 0, 1, 1, 1)\n",
      "24 (0, 0, 0, 1, 1, 0, 0, 0)\n",
      "25 (0, 0, 0, 1, 1, 0, 0, 1)\n",
      "26 (0, 0, 0, 1, 1, 0, 1, 0)\n",
      "27 (0, 0, 0, 1, 1, 0, 1, 1)\n",
      "28 (0, 0, 0, 1, 1, 1, 0, 0)\n",
      "29 (0, 0, 0, 1, 1, 1, 0, 1)\n",
      "30 (0, 0, 0, 1, 1, 1, 1, 0)\n",
      "31 (0, 0, 0, 1, 1, 1, 1, 1)\n",
      "32 (0, 0, 1, 0, 0, 0, 0, 0)\n",
      "33 (0, 0, 1, 0, 0, 0, 0, 1)\n",
      "34 (0, 0, 1, 0, 0, 0, 1, 0)\n",
      "35 (0, 0, 1, 0, 0, 0, 1, 1)\n",
      "36 (0, 0, 1, 0, 0, 1, 0, 0)\n",
      "37 (0, 0, 1, 0, 0, 1, 0, 1)\n",
      "38 (0, 0, 1, 0, 0, 1, 1, 0)\n",
      "39 (0, 0, 1, 0, 0, 1, 1, 1)\n",
      "40 (0, 0, 1, 0, 1, 0, 0, 0)\n",
      "41 (0, 0, 1, 0, 1, 0, 0, 1)\n",
      "42 (0, 0, 1, 0, 1, 0, 1, 0)\n",
      "43 (0, 0, 1, 0, 1, 0, 1, 1)\n",
      "44 (0, 0, 1, 0, 1, 1, 0, 0)\n",
      "45 (0, 0, 1, 0, 1, 1, 0, 1)\n",
      "46 (0, 0, 1, 0, 1, 1, 1, 0)\n",
      "47 (0, 0, 1, 0, 1, 1, 1, 1)\n",
      "48 (0, 0, 1, 1, 0, 0, 0, 0)\n",
      "49 (0, 0, 1, 1, 0, 0, 0, 1)\n",
      "50 (0, 0, 1, 1, 0, 0, 1, 0)\n",
      "51 (0, 0, 1, 1, 0, 0, 1, 1)\n",
      "52 (0, 0, 1, 1, 0, 1, 0, 0)\n",
      "53 (0, 0, 1, 1, 0, 1, 0, 1)\n",
      "54 (0, 0, 1, 1, 0, 1, 1, 0)\n",
      "55 (0, 0, 1, 1, 0, 1, 1, 1)\n",
      "56 (0, 0, 1, 1, 1, 0, 0, 0)\n",
      "57 (0, 0, 1, 1, 1, 0, 0, 1)\n",
      "58 (0, 0, 1, 1, 1, 0, 1, 0)\n",
      "59 (0, 0, 1, 1, 1, 0, 1, 1)\n",
      "60 (0, 0, 1, 1, 1, 1, 0, 0)\n",
      "61 (0, 0, 1, 1, 1, 1, 0, 1)\n",
      "62 (0, 0, 1, 1, 1, 1, 1, 0)\n",
      "63 (0, 0, 1, 1, 1, 1, 1, 1)\n",
      "64 (0, 1, 0, 0, 0, 0, 0, 0)\n",
      "65 (0, 1, 0, 0, 0, 0, 0, 1)\n",
      "66 (0, 1, 0, 0, 0, 0, 1, 0)\n",
      "67 (0, 1, 0, 0, 0, 0, 1, 1)\n",
      "68 (0, 1, 0, 0, 0, 1, 0, 0)\n",
      "69 (0, 1, 0, 0, 0, 1, 0, 1)\n",
      "70 (0, 1, 0, 0, 0, 1, 1, 0)\n",
      "71 (0, 1, 0, 0, 0, 1, 1, 1)\n",
      "72 (0, 1, 0, 0, 1, 0, 0, 0)\n",
      "73 (0, 1, 0, 0, 1, 0, 0, 1)\n",
      "74 (0, 1, 0, 0, 1, 0, 1, 0)\n",
      "75 (0, 1, 0, 0, 1, 0, 1, 1)\n",
      "76 (0, 1, 0, 0, 1, 1, 0, 0)\n",
      "77 (0, 1, 0, 0, 1, 1, 0, 1)\n",
      "78 (0, 1, 0, 0, 1, 1, 1, 0)\n",
      "79 (0, 1, 0, 0, 1, 1, 1, 1)\n",
      "80 (0, 1, 0, 1, 0, 0, 0, 0)\n",
      "81 (0, 1, 0, 1, 0, 0, 0, 1)\n",
      "82 (0, 1, 0, 1, 0, 0, 1, 0)\n",
      "83 (0, 1, 0, 1, 0, 0, 1, 1)\n",
      "84 (0, 1, 0, 1, 0, 1, 0, 0)\n",
      "85 (0, 1, 0, 1, 0, 1, 0, 1)\n",
      "86 (0, 1, 0, 1, 0, 1, 1, 0)\n",
      "87 (0, 1, 0, 1, 0, 1, 1, 1)\n",
      "88 (0, 1, 0, 1, 1, 0, 0, 0)\n",
      "89 (0, 1, 0, 1, 1, 0, 0, 1)\n",
      "90 (0, 1, 0, 1, 1, 0, 1, 0)\n",
      "91 (0, 1, 0, 1, 1, 0, 1, 1)\n",
      "92 (0, 1, 0, 1, 1, 1, 0, 0)\n",
      "93 (0, 1, 0, 1, 1, 1, 0, 1)\n",
      "94 (0, 1, 0, 1, 1, 1, 1, 0)\n",
      "95 (0, 1, 0, 1, 1, 1, 1, 1)\n",
      "96 (0, 1, 1, 0, 0, 0, 0, 0)\n",
      "97 (0, 1, 1, 0, 0, 0, 0, 1)\n",
      "98 (0, 1, 1, 0, 0, 0, 1, 0)\n",
      "99 (0, 1, 1, 0, 0, 0, 1, 1)\n",
      "100 (0, 1, 1, 0, 0, 1, 0, 0)\n",
      "101 (0, 1, 1, 0, 0, 1, 0, 1)\n",
      "102 (0, 1, 1, 0, 0, 1, 1, 0)\n",
      "103 (0, 1, 1, 0, 0, 1, 1, 1)\n",
      "104 (0, 1, 1, 0, 1, 0, 0, 0)\n",
      "105 (0, 1, 1, 0, 1, 0, 0, 1)\n",
      "106 (0, 1, 1, 0, 1, 0, 1, 0)\n",
      "107 (0, 1, 1, 0, 1, 0, 1, 1)\n",
      "108 (0, 1, 1, 0, 1, 1, 0, 0)\n",
      "109 (0, 1, 1, 0, 1, 1, 0, 1)\n",
      "110 (0, 1, 1, 0, 1, 1, 1, 0)\n",
      "111 (0, 1, 1, 0, 1, 1, 1, 1)\n",
      "112 (0, 1, 1, 1, 0, 0, 0, 0)\n",
      "113 (0, 1, 1, 1, 0, 0, 0, 1)\n",
      "114 (0, 1, 1, 1, 0, 0, 1, 0)\n",
      "115 (0, 1, 1, 1, 0, 0, 1, 1)\n",
      "116 (0, 1, 1, 1, 0, 1, 0, 0)\n",
      "117 (0, 1, 1, 1, 0, 1, 0, 1)\n",
      "118 (0, 1, 1, 1, 0, 1, 1, 0)\n",
      "119 (0, 1, 1, 1, 0, 1, 1, 1)\n",
      "120 (0, 1, 1, 1, 1, 0, 0, 0)\n",
      "121 (0, 1, 1, 1, 1, 0, 0, 1)\n",
      "122 (0, 1, 1, 1, 1, 0, 1, 0)\n",
      "123 (0, 1, 1, 1, 1, 0, 1, 1)\n",
      "124 (0, 1, 1, 1, 1, 1, 0, 0)\n",
      "125 (0, 1, 1, 1, 1, 1, 0, 1)\n",
      "126 (0, 1, 1, 1, 1, 1, 1, 0)\n",
      "127 (0, 1, 1, 1, 1, 1, 1, 1)\n",
      "128 (1, 0, 0, 0, 0, 0, 0, 0)\n",
      "129 (1, 0, 0, 0, 0, 0, 0, 1)\n",
      "130 (1, 0, 0, 0, 0, 0, 1, 0)\n",
      "131 (1, 0, 0, 0, 0, 0, 1, 1)\n",
      "132 (1, 0, 0, 0, 0, 1, 0, 0)\n",
      "133 (1, 0, 0, 0, 0, 1, 0, 1)\n",
      "134 (1, 0, 0, 0, 0, 1, 1, 0)\n",
      "135 (1, 0, 0, 0, 0, 1, 1, 1)\n",
      "136 (1, 0, 0, 0, 1, 0, 0, 0)\n",
      "137 (1, 0, 0, 0, 1, 0, 0, 1)\n",
      "138 (1, 0, 0, 0, 1, 0, 1, 0)\n",
      "139 (1, 0, 0, 0, 1, 0, 1, 1)\n",
      "140 (1, 0, 0, 0, 1, 1, 0, 0)\n",
      "141 (1, 0, 0, 0, 1, 1, 0, 1)\n",
      "142 (1, 0, 0, 0, 1, 1, 1, 0)\n",
      "143 (1, 0, 0, 0, 1, 1, 1, 1)\n",
      "144 (1, 0, 0, 1, 0, 0, 0, 0)\n",
      "145 (1, 0, 0, 1, 0, 0, 0, 1)\n",
      "146 (1, 0, 0, 1, 0, 0, 1, 0)\n",
      "147 (1, 0, 0, 1, 0, 0, 1, 1)\n",
      "148 (1, 0, 0, 1, 0, 1, 0, 0)\n",
      "149 (1, 0, 0, 1, 0, 1, 0, 1)\n",
      "150 (1, 0, 0, 1, 0, 1, 1, 0)\n",
      "151 (1, 0, 0, 1, 0, 1, 1, 1)\n",
      "152 (1, 0, 0, 1, 1, 0, 0, 0)\n",
      "153 (1, 0, 0, 1, 1, 0, 0, 1)\n",
      "154 (1, 0, 0, 1, 1, 0, 1, 0)\n",
      "155 (1, 0, 0, 1, 1, 0, 1, 1)\n",
      "156 (1, 0, 0, 1, 1, 1, 0, 0)\n",
      "157 (1, 0, 0, 1, 1, 1, 0, 1)\n",
      "158 (1, 0, 0, 1, 1, 1, 1, 0)\n",
      "159 (1, 0, 0, 1, 1, 1, 1, 1)\n",
      "160 (1, 0, 1, 0, 0, 0, 0, 0)\n",
      "161 (1, 0, 1, 0, 0, 0, 0, 1)\n",
      "162 (1, 0, 1, 0, 0, 0, 1, 0)\n",
      "163 (1, 0, 1, 0, 0, 0, 1, 1)\n",
      "164 (1, 0, 1, 0, 0, 1, 0, 0)\n",
      "165 (1, 0, 1, 0, 0, 1, 0, 1)\n",
      "166 (1, 0, 1, 0, 0, 1, 1, 0)\n",
      "167 (1, 0, 1, 0, 0, 1, 1, 1)\n",
      "168 (1, 0, 1, 0, 1, 0, 0, 0)\n",
      "169 (1, 0, 1, 0, 1, 0, 0, 1)\n",
      "170 (1, 0, 1, 0, 1, 0, 1, 0)\n",
      "171 (1, 0, 1, 0, 1, 0, 1, 1)\n",
      "172 (1, 0, 1, 0, 1, 1, 0, 0)\n",
      "173 (1, 0, 1, 0, 1, 1, 0, 1)\n",
      "174 (1, 0, 1, 0, 1, 1, 1, 0)\n",
      "175 (1, 0, 1, 0, 1, 1, 1, 1)\n",
      "176 (1, 0, 1, 1, 0, 0, 0, 0)\n",
      "177 (1, 0, 1, 1, 0, 0, 0, 1)\n",
      "178 (1, 0, 1, 1, 0, 0, 1, 0)\n",
      "179 (1, 0, 1, 1, 0, 0, 1, 1)\n",
      "180 (1, 0, 1, 1, 0, 1, 0, 0)\n",
      "181 (1, 0, 1, 1, 0, 1, 0, 1)\n",
      "182 (1, 0, 1, 1, 0, 1, 1, 0)\n",
      "183 (1, 0, 1, 1, 0, 1, 1, 1)\n",
      "184 (1, 0, 1, 1, 1, 0, 0, 0)\n",
      "185 (1, 0, 1, 1, 1, 0, 0, 1)\n",
      "186 (1, 0, 1, 1, 1, 0, 1, 0)\n",
      "187 (1, 0, 1, 1, 1, 0, 1, 1)\n",
      "188 (1, 0, 1, 1, 1, 1, 0, 0)\n",
      "189 (1, 0, 1, 1, 1, 1, 0, 1)\n",
      "190 (1, 0, 1, 1, 1, 1, 1, 0)\n",
      "191 (1, 0, 1, 1, 1, 1, 1, 1)\n",
      "192 (1, 1, 0, 0, 0, 0, 0, 0)\n",
      "193 (1, 1, 0, 0, 0, 0, 0, 1)\n",
      "194 (1, 1, 0, 0, 0, 0, 1, 0)\n",
      "195 (1, 1, 0, 0, 0, 0, 1, 1)\n",
      "196 (1, 1, 0, 0, 0, 1, 0, 0)\n",
      "197 (1, 1, 0, 0, 0, 1, 0, 1)\n",
      "198 (1, 1, 0, 0, 0, 1, 1, 0)\n",
      "199 (1, 1, 0, 0, 0, 1, 1, 1)\n",
      "200 (1, 1, 0, 0, 1, 0, 0, 0)\n",
      "201 (1, 1, 0, 0, 1, 0, 0, 1)\n",
      "202 (1, 1, 0, 0, 1, 0, 1, 0)\n",
      "203 (1, 1, 0, 0, 1, 0, 1, 1)\n",
      "204 (1, 1, 0, 0, 1, 1, 0, 0)\n",
      "205 (1, 1, 0, 0, 1, 1, 0, 1)\n",
      "206 (1, 1, 0, 0, 1, 1, 1, 0)\n",
      "207 (1, 1, 0, 0, 1, 1, 1, 1)\n",
      "208 (1, 1, 0, 1, 0, 0, 0, 0)\n",
      "209 (1, 1, 0, 1, 0, 0, 0, 1)\n",
      "210 (1, 1, 0, 1, 0, 0, 1, 0)\n",
      "211 (1, 1, 0, 1, 0, 0, 1, 1)\n",
      "212 (1, 1, 0, 1, 0, 1, 0, 0)\n",
      "213 (1, 1, 0, 1, 0, 1, 0, 1)\n",
      "214 (1, 1, 0, 1, 0, 1, 1, 0)\n",
      "215 (1, 1, 0, 1, 0, 1, 1, 1)\n",
      "216 (1, 1, 0, 1, 1, 0, 0, 0)\n",
      "217 (1, 1, 0, 1, 1, 0, 0, 1)\n",
      "218 (1, 1, 0, 1, 1, 0, 1, 0)\n",
      "219 (1, 1, 0, 1, 1, 0, 1, 1)\n",
      "220 (1, 1, 0, 1, 1, 1, 0, 0)\n",
      "221 (1, 1, 0, 1, 1, 1, 0, 1)\n",
      "222 (1, 1, 0, 1, 1, 1, 1, 0)\n",
      "223 (1, 1, 0, 1, 1, 1, 1, 1)\n",
      "224 (1, 1, 1, 0, 0, 0, 0, 0)\n",
      "225 (1, 1, 1, 0, 0, 0, 0, 1)\n",
      "226 (1, 1, 1, 0, 0, 0, 1, 0)\n",
      "227 (1, 1, 1, 0, 0, 0, 1, 1)\n",
      "228 (1, 1, 1, 0, 0, 1, 0, 0)\n",
      "229 (1, 1, 1, 0, 0, 1, 0, 1)\n",
      "230 (1, 1, 1, 0, 0, 1, 1, 0)\n",
      "231 (1, 1, 1, 0, 0, 1, 1, 1)\n",
      "232 (1, 1, 1, 0, 1, 0, 0, 0)\n",
      "233 (1, 1, 1, 0, 1, 0, 0, 1)\n",
      "234 (1, 1, 1, 0, 1, 0, 1, 0)\n",
      "235 (1, 1, 1, 0, 1, 0, 1, 1)\n",
      "236 (1, 1, 1, 0, 1, 1, 0, 0)\n",
      "237 (1, 1, 1, 0, 1, 1, 0, 1)\n",
      "238 (1, 1, 1, 0, 1, 1, 1, 0)\n",
      "239 (1, 1, 1, 0, 1, 1, 1, 1)\n",
      "240 (1, 1, 1, 1, 0, 0, 0, 0)\n",
      "241 (1, 1, 1, 1, 0, 0, 0, 1)\n",
      "242 (1, 1, 1, 1, 0, 0, 1, 0)\n",
      "243 (1, 1, 1, 1, 0, 0, 1, 1)\n",
      "244 (1, 1, 1, 1, 0, 1, 0, 0)\n",
      "245 (1, 1, 1, 1, 0, 1, 0, 1)\n",
      "246 (1, 1, 1, 1, 0, 1, 1, 0)\n",
      "247 (1, 1, 1, 1, 0, 1, 1, 1)\n",
      "248 (1, 1, 1, 1, 1, 0, 0, 0)\n",
      "249 (1, 1, 1, 1, 1, 0, 0, 1)\n",
      "250 (1, 1, 1, 1, 1, 0, 1, 0)\n",
      "251 (1, 1, 1, 1, 1, 0, 1, 1)\n",
      "252 (1, 1, 1, 1, 1, 1, 0, 0)\n",
      "253 (1, 1, 1, 1, 1, 1, 0, 1)\n",
      "254 (1, 1, 1, 1, 1, 1, 1, 0)\n",
      "255 (1, 1, 1, 1, 1, 1, 1, 1)\n"
     ]
    }
   ],
   "source": [
    "import itertools\n",
    "\n",
    "for i, bits in enumerate(itertools.product((0, 1), repeat=8)):\n",
    "    print(i, bits)"
   ]
  },
  {
   "cell_type": "markdown",
   "metadata": {},
   "source": [
    "Es decir, puede contener valores que van de 0 a 255 ($2^8$)."
   ]
  },
  {
   "cell_type": "markdown",
   "metadata": {},
   "source": [
    "¿Cuántos bytes tendrá un `ndarray` de 10 elementos cuyo tipo de datos es un `np.int8`?"
   ]
  },
  {
   "cell_type": "code",
   "execution_count": 42,
   "metadata": {},
   "outputs": [
    {
     "name": "stdout",
     "output_type": "stream",
     "text": [
      "10\n",
      "58\n"
     ]
    }
   ],
   "source": [
    "a = np.arange(10, dtype=np.int8)\n",
    "print(a.nbytes)\n",
    "print(sys.getsizeof(a))"
   ]
  },
  {
   "cell_type": "code",
   "execution_count": 43,
   "metadata": {},
   "outputs": [
    {
     "name": "stdout",
     "output_type": "stream",
     "text": [
      "100000\n",
      "100048\n"
     ]
    }
   ],
   "source": [
    "a = np.repeat(1, 100000).astype(np.int8)\n",
    "print(a.nbytes)\n",
    "print(sys.getsizeof(a))"
   ]
  },
  {
   "cell_type": "markdown",
   "metadata": {},
   "source": [
    "## Creación de numpy arrays"
   ]
  },
  {
   "cell_type": "markdown",
   "metadata": {},
   "source": [
    "Podemos crear numpy arrays de muchas formas.\n",
    "\n",
    "* Rangos numéricos\n",
    "\n",
    "`np.arange`, `np.linspace`, `np.logspace`\n",
    "\n",
    "* Datos homogéneos\n",
    "\n",
    "`np.zeros`, `np.ones`\n",
    "\n",
    "* Elementos diagonales\n",
    "\n",
    "`np.diag`, `np.eye`\n",
    "\n",
    "* Números aleatorios\n",
    "\n",
    "`np.random.rand`, `np.random.randint`,...\n",
    "\n",
    "* A partir de otras estructuras de datos ya creadas\n",
    "\n",
    "`np.array`\n",
    "\n",
    "* A partir de otros numpy arrays\n",
    "\n",
    "`np.empty_like`\n",
    "\n",
    "* A partir de ficheros\n",
    "\n",
    "`np.loadtxt`, `np.genfromtxt`,...\n",
    "\n",
    "\n",
    "* A partir de un escalar\n",
    "\n",
    "`np.full`, `np.tile`,...\n",
    "\n",
    "* A partir de valores aleatorios\n",
    "\n",
    "`np.random.randint`, `np.random.randint`, `np.random.randn`,...\n",
    "\n",
    "..."
   ]
  },
  {
   "cell_type": "code",
   "execution_count": 48,
   "metadata": {},
   "outputs": [
    {
     "name": "stdout",
     "output_type": "stream",
     "text": [
      "[0 1 2 3 4 5 6 7 8 9]\n"
     ]
    }
   ],
   "source": [
    "a = np.arange(10) # similar a range pero devuelve un ndarray en lugar de un objeto range\n",
    "print(a)"
   ]
  },
  {
   "cell_type": "code",
   "execution_count": 49,
   "metadata": {},
   "outputs": [
    {
     "name": "stdout",
     "output_type": "stream",
     "text": [
      "[ 0.    0.01  0.02  0.03  0.04  0.05  0.06  0.07  0.08  0.09  0.1   0.11\n",
      "  0.12  0.13  0.14  0.15  0.16  0.17  0.18  0.19  0.2   0.21  0.22  0.23\n",
      "  0.24  0.25  0.26  0.27  0.28  0.29  0.3   0.31  0.32  0.33  0.34  0.35\n",
      "  0.36  0.37  0.38  0.39  0.4   0.41  0.42  0.43  0.44  0.45  0.46  0.47\n",
      "  0.48  0.49  0.5   0.51  0.52  0.53  0.54  0.55  0.56  0.57  0.58  0.59\n",
      "  0.6   0.61  0.62  0.63  0.64  0.65  0.66  0.67  0.68  0.69  0.7   0.71\n",
      "  0.72  0.73  0.74  0.75  0.76  0.77  0.78  0.79  0.8   0.81  0.82  0.83\n",
      "  0.84  0.85  0.86  0.87  0.88  0.89  0.9   0.91  0.92  0.93  0.94  0.95\n",
      "  0.96  0.97  0.98  0.99  1.  ]\n"
     ]
    }
   ],
   "source": [
    "a = np.linspace(0, 1, 101)\n",
    "print(a)"
   ]
  },
  {
   "cell_type": "code",
   "execution_count": 50,
   "metadata": {},
   "outputs": [
    {
     "name": "stdout",
     "output_type": "stream",
     "text": [
      "[[0 0 0]\n",
      " [0 0 0]]\n",
      "[[ 0.  0.  0.]\n",
      " [ 0.  0.  0.]]\n"
     ]
    }
   ],
   "source": [
    "a_i = np.zeros((2, 3), dtype=np.int)\n",
    "a_f = np.zeros((2, 3))\n",
    "print(a_i)\n",
    "print(a_f)"
   ]
  },
  {
   "cell_type": "code",
   "execution_count": 51,
   "metadata": {},
   "outputs": [
    {
     "name": "stdout",
     "output_type": "stream",
     "text": [
      "[[ 1.  0.  0.]\n",
      " [ 0.  1.  0.]\n",
      " [ 0.  0.  1.]]\n"
     ]
    }
   ],
   "source": [
    "a = np.eye(3)\n",
    "print(a)"
   ]
  },
  {
   "cell_type": "code",
   "execution_count": 52,
   "metadata": {},
   "outputs": [
    {
     "name": "stdout",
     "output_type": "stream",
     "text": [
      "[[  1.   2.   3.   4.   5.   6.]\n",
      " [ 10.  20.  30.  40.  50.  60.]]\n"
     ]
    }
   ],
   "source": [
    "a = np.array(\n",
    "    (\n",
    "        (1, 2, 3, 4, 5, 6),\n",
    "        (10, 20, 30, 40, 50, 60)\n",
    "    ), \n",
    "    dtype=np.float\n",
    ")\n",
    "print(a)"
   ]
  },
  {
   "cell_type": "code",
   "execution_count": 53,
   "metadata": {},
   "outputs": [
    {
     "data": {
      "text/plain": [
       "array([[-999, -999, -999, -999, -999],\n",
       "       [-999, -999, -999, -999, -999],\n",
       "       [-999, -999, -999, -999, -999],\n",
       "       [-999, -999, -999, -999, -999],\n",
       "       [-999, -999, -999, -999, -999]])"
      ]
     },
     "execution_count": 53,
     "metadata": {},
     "output_type": "execute_result"
    }
   ],
   "source": [
    "np.full((5, 5), -999)"
   ]
  },
  {
   "cell_type": "code",
   "execution_count": 54,
   "metadata": {},
   "outputs": [
    {
     "data": {
      "text/plain": [
       "array([ 0, 21, 45, 28,  2, 20, 16,  8, 46,  3, 13, 32, 49,  7, 37])"
      ]
     },
     "execution_count": 54,
     "metadata": {},
     "output_type": "execute_result"
    }
   ],
   "source": [
    "np.random.randint(0, 50, 15)"
   ]
  },
  {
   "cell_type": "markdown",
   "metadata": {},
   "source": [
    "<div class=\"alert alert-success\">\n",
    "    <p>Referencias:</p>\n",
    "    <p><a href=\"https://docs.scipy.org/doc/numpy/user/basics.creation.html#arrays-creation\">array creation</a></p>\n",
    "    <p><a href=\"https://docs.scipy.org/doc/numpy/reference/routines.array-creation.html#routines-array-creation\">routines for array creation</a></p>\n",
    "</div>"
   ]
  },
  {
   "cell_type": "markdown",
   "metadata": {},
   "source": [
    "**Practicando**\n",
    "\n",
    "Recordad que siempre podéis usar `help`, `?`, `np.lookfor`,..., para obtener más información."
   ]
  },
  {
   "cell_type": "code",
   "execution_count": 55,
   "metadata": {},
   "outputs": [
    {
     "name": "stdout",
     "output_type": "stream",
     "text": [
      "Help on function sum in module numpy.core.fromnumeric:\n",
      "\n",
      "sum(a, axis=None, dtype=None, out=None, keepdims=<class 'numpy._globals._NoValue'>)\n",
      "    Sum of array elements over a given axis.\n",
      "    \n",
      "    Parameters\n",
      "    ----------\n",
      "    a : array_like\n",
      "        Elements to sum.\n",
      "    axis : None or int or tuple of ints, optional\n",
      "        Axis or axes along which a sum is performed.  The default,\n",
      "        axis=None, will sum all of the elements of the input array.  If\n",
      "        axis is negative it counts from the last to the first axis.\n",
      "    \n",
      "        .. versionadded:: 1.7.0\n",
      "    \n",
      "        If axis is a tuple of ints, a sum is performed on all of the axes\n",
      "        specified in the tuple instead of a single axis or all the axes as\n",
      "        before.\n",
      "    dtype : dtype, optional\n",
      "        The type of the returned array and of the accumulator in which the\n",
      "        elements are summed.  The dtype of `a` is used by default unless `a`\n",
      "        has an integer dtype of less precision than the default platform\n",
      "        integer.  In that case, if `a` is signed then the platform integer\n",
      "        is used while if `a` is unsigned then an unsigned integer of the\n",
      "        same precision as the platform integer is used.\n",
      "    out : ndarray, optional\n",
      "        Alternative output array in which to place the result. It must have\n",
      "        the same shape as the expected output, but the type of the output\n",
      "        values will be cast if necessary.\n",
      "    keepdims : bool, optional\n",
      "        If this is set to True, the axes which are reduced are left\n",
      "        in the result as dimensions with size one. With this option,\n",
      "        the result will broadcast correctly against the input array.\n",
      "    \n",
      "        If the default value is passed, then `keepdims` will not be\n",
      "        passed through to the `sum` method of sub-classes of\n",
      "        `ndarray`, however any non-default value will be.  If the\n",
      "        sub-classes `sum` method does not implement `keepdims` any\n",
      "        exceptions will be raised.\n",
      "    \n",
      "    Returns\n",
      "    -------\n",
      "    sum_along_axis : ndarray\n",
      "        An array with the same shape as `a`, with the specified\n",
      "        axis removed.   If `a` is a 0-d array, or if `axis` is None, a scalar\n",
      "        is returned.  If an output array is specified, a reference to\n",
      "        `out` is returned.\n",
      "    \n",
      "    See Also\n",
      "    --------\n",
      "    ndarray.sum : Equivalent method.\n",
      "    \n",
      "    cumsum : Cumulative sum of array elements.\n",
      "    \n",
      "    trapz : Integration of array values using the composite trapezoidal rule.\n",
      "    \n",
      "    mean, average\n",
      "    \n",
      "    Notes\n",
      "    -----\n",
      "    Arithmetic is modular when using integer types, and no error is\n",
      "    raised on overflow.\n",
      "    \n",
      "    The sum of an empty array is the neutral element 0:\n",
      "    \n",
      "    >>> np.sum([])\n",
      "    0.0\n",
      "    \n",
      "    Examples\n",
      "    --------\n",
      "    >>> np.sum([0.5, 1.5])\n",
      "    2.0\n",
      "    >>> np.sum([0.5, 0.7, 0.2, 1.5], dtype=np.int32)\n",
      "    1\n",
      "    >>> np.sum([[0, 1], [0, 5]])\n",
      "    6\n",
      "    >>> np.sum([[0, 1], [0, 5]], axis=0)\n",
      "    array([0, 6])\n",
      "    >>> np.sum([[0, 1], [0, 5]], axis=1)\n",
      "    array([1, 5])\n",
      "    \n",
      "    If the accumulator is too small, overflow occurs:\n",
      "    \n",
      "    >>> np.ones(128, dtype=np.int8).sum(dtype=np.int8)\n",
      "    -128\n",
      "\n"
     ]
    }
   ],
   "source": [
    "help(np.sum)"
   ]
  },
  {
   "cell_type": "code",
   "execution_count": 56,
   "metadata": {
    "collapsed": true
   },
   "outputs": [],
   "source": [
    "np.rad2deg?"
   ]
  },
  {
   "cell_type": "code",
   "execution_count": 57,
   "metadata": {},
   "outputs": [
    {
     "name": "stdout",
     "output_type": "stream",
     "text": [
      "Search results for 'create array'\n",
      "---------------------------------\n",
      "numpy.array\n",
      "    Create an array.\n",
      "numpy.memmap\n",
      "    Create a memory-map to an array stored in a *binary* file on disk.\n",
      "numpy.diagflat\n",
      "    Create a two-dimensional array with the flattened input as a diagonal.\n",
      "numpy.fromiter\n",
      "    Create a new 1-dimensional array from an iterable object.\n",
      "numpy.partition\n",
      "    Return a partitioned copy of an array.\n",
      "numpy.ctypeslib.as_array\n",
      "    Create a numpy array from a ctypes array or a ctypes POINTER.\n",
      "numpy.ma.diagflat\n",
      "    Create a two-dimensional array with the flattened input as a diagonal.\n",
      "numpy.ma.make_mask\n",
      "    Create a boolean mask from an array.\n",
      "numpy.ctypeslib.as_ctypes\n",
      "    Create and return a ctypes object from a numpy array.  Actually\n",
      "numpy.ma.mrecords.fromarrays\n",
      "    Creates a mrecarray from a (flat) list of masked arrays.\n",
      "numpy.ma.mvoid.__new__\n",
      "    Create a new masked array from scratch.\n",
      "numpy.lib.format.open_memmap\n",
      "    Open a .npy file as a memory-mapped array.\n",
      "numpy.ma.MaskedArray.__new__\n",
      "    Create a new masked array from scratch.\n",
      "numpy.lib.arrayterator.Arrayterator\n",
      "    Buffered iterator for big arrays.\n",
      "numpy.ma.mrecords.fromtextfile\n",
      "    Creates a mrecarray from data stored in the file `filename`.\n",
      "numpy.asarray\n",
      "    Convert the input to an array.\n",
      "numpy.ndarray\n",
      "    ndarray(shape, dtype=float, buffer=None, offset=0,\n",
      "numpy.recarray\n",
      "    Construct an ndarray that allows field access using attributes.\n",
      "numpy.chararray\n",
      "    chararray(shape, itemsize=1, unicode=False, buffer=None, offset=0,\n",
      "numpy.pad\n",
      "    Pads an array.\n",
      "numpy.asanyarray\n",
      "    Convert the input to an ndarray, but pass ndarray subclasses through.\n",
      "numpy.copy\n",
      "    Return an array copy of the given object.\n",
      "numpy.diag\n",
      "    Extract a diagonal or construct a diagonal array.\n",
      "numpy.load\n",
      "    Load arrays or pickled objects from ``.npy``, ``.npz`` or pickled files.\n",
      "numpy.sort\n",
      "    Return a sorted copy of an array.\n",
      "numpy.array_equiv\n",
      "    Returns True if input arrays are shape consistent and all elements equal.\n",
      "numpy.dtype\n",
      "    Create a data type object.\n",
      "numpy.choose\n",
      "    Construct an array from an index array and a set of arrays to choose from.\n",
      "numpy.nditer\n",
      "    Efficient multi-dimensional iterator object to iterate over arrays.\n",
      "numpy.swapaxes\n",
      "    Interchange two axes of an array.\n",
      "numpy.full_like\n",
      "    Return a full array with the same shape and type as a given array.\n",
      "numpy.ones_like\n",
      "    Return an array of ones with the same shape and type as a given array.\n",
      "numpy.empty_like\n",
      "    Return a new array with the same shape and type as a given array.\n",
      "numpy.ma.mrecords.MaskedRecords.__new__\n",
      "    Create a new masked array from scratch.\n",
      "numpy.nan_to_num\n",
      "    Replace nan with zero and inf with finite numbers.\n",
      "numpy.zeros_like\n",
      "    Return an array of zeros with the same shape and type as a given array.\n",
      "numpy.asarray_chkfinite\n",
      "    Convert the input to an array, checking for NaNs or Infs.\n",
      "numpy.diag_indices\n",
      "    Return the indices to access the main diagonal of an array.\n",
      "numpy.chararray.tolist\n",
      "    a.tolist()\n",
      "numpy.ma.choose\n",
      "    Use an index array to construct a new array from a set of choices.\n",
      "numpy.savez_compressed\n",
      "    Save several arrays into a single file in compressed ``.npz`` format.\n",
      "numpy.matlib.rand\n",
      "    Return a matrix of random values with given shape.\n",
      "numpy.ma.empty_like\n",
      "    Return a new array with the same shape and type as a given array.\n",
      "numpy.ma.make_mask_none\n",
      "    Return a boolean mask of the given shape, filled with False.\n",
      "numpy.ma.mrecords.fromrecords\n",
      "    Creates a MaskedRecords from a list of records.\n",
      "numpy.around\n",
      "    Evenly round to the given number of decimals.\n",
      "numpy.source\n",
      "    Print or write to a file the source code for a NumPy object.\n",
      "numpy.diagonal\n",
      "    Return specified diagonals.\n",
      "numpy.einsum_path\n",
      "    Evaluates the lowest cost contraction order for an einsum expression by\n",
      "numpy.histogram2d\n",
      "    Compute the bi-dimensional histogram of two data samples.\n",
      "numpy.fft.ifft\n",
      "    Compute the one-dimensional inverse discrete Fourier Transform.\n",
      "numpy.fft.ifftn\n",
      "    Compute the N-dimensional inverse discrete Fourier Transform.\n",
      "numpy.busdaycalendar\n",
      "    A business day calendar object that efficiently stores information"
     ]
    }
   ],
   "source": [
    "np.lookfor(\"create array\")"
   ]
  },
  {
   "cell_type": "markdown",
   "metadata": {},
   "source": [
    "Ved un poco como funciona `np.repeat`, `np.empty_like`,... "
   ]
  },
  {
   "cell_type": "code",
   "execution_count": 21,
   "metadata": {
    "collapsed": true
   },
   "outputs": [],
   "source": [
    "# Play area\n",
    "\n"
   ]
  },
  {
   "cell_type": "markdown",
   "metadata": {},
   "source": [
    "## Operaciones disponibles más típicas"
   ]
  },
  {
   "cell_type": "code",
   "execution_count": null,
   "metadata": {
    "collapsed": true
   },
   "outputs": [],
   "source": [
    "a = np.random.rand(5, 2)\n",
    "print(a)"
   ]
  },
  {
   "cell_type": "code",
   "execution_count": null,
   "metadata": {
    "collapsed": true
   },
   "outputs": [],
   "source": [
    "a.sum()"
   ]
  },
  {
   "cell_type": "code",
   "execution_count": null,
   "metadata": {
    "collapsed": true
   },
   "outputs": [],
   "source": [
    "a.sum(axis=0)"
   ]
  },
  {
   "cell_type": "code",
   "execution_count": null,
   "metadata": {
    "collapsed": true
   },
   "outputs": [],
   "source": [
    "a.sum(axis=1)"
   ]
  },
  {
   "cell_type": "code",
   "execution_count": null,
   "metadata": {
    "collapsed": true
   },
   "outputs": [],
   "source": [
    "a.ravel()"
   ]
  },
  {
   "cell_type": "code",
   "execution_count": null,
   "metadata": {
    "collapsed": true
   },
   "outputs": [],
   "source": [
    "a.reshape(2, 5)"
   ]
  },
  {
   "cell_type": "code",
   "execution_count": null,
   "metadata": {
    "collapsed": true
   },
   "outputs": [],
   "source": [
    "a.T"
   ]
  },
  {
   "cell_type": "code",
   "execution_count": null,
   "metadata": {
    "collapsed": true
   },
   "outputs": [],
   "source": [
    "a.transpose()"
   ]
  },
  {
   "cell_type": "code",
   "execution_count": null,
   "metadata": {
    "collapsed": true
   },
   "outputs": [],
   "source": [
    "a.mean()"
   ]
  },
  {
   "cell_type": "code",
   "execution_count": null,
   "metadata": {
    "collapsed": true
   },
   "outputs": [],
   "source": [
    "a.mean(axis=1)"
   ]
  },
  {
   "cell_type": "code",
   "execution_count": null,
   "metadata": {
    "collapsed": true
   },
   "outputs": [],
   "source": [
    "a.cumsum(axis=1)"
   ]
  },
  {
   "cell_type": "markdown",
   "metadata": {},
   "source": [
    "<div class=\"alert alert-success\">\n",
    "    <p>Referencias:</p>\n",
    "    <p><a href=\"https://docs.scipy.org/doc/numpy/user/quickstart.html\">Quick start tutorial</a></p>\n",
    "</div>"
   ]
  },
  {
   "cell_type": "markdown",
   "metadata": {},
   "source": [
    "**Practicando**\n",
    "\n",
    "Mirad más métodos de un `ndarray` y toquetead. Si no entendéis algo, preguntad:"
   ]
  },
  {
   "cell_type": "code",
   "execution_count": null,
   "metadata": {
    "collapsed": true
   },
   "outputs": [],
   "source": [
    "dir(a)"
   ]
  },
  {
   "cell_type": "code",
   "execution_count": null,
   "metadata": {
    "collapsed": true
   },
   "outputs": [],
   "source": [
    "# Play area\n",
    "\n"
   ]
  },
  {
   "cell_type": "markdown",
   "metadata": {},
   "source": [
    "## Metadatos y anatomía de un `ndarray`"
   ]
  },
  {
   "cell_type": "markdown",
   "metadata": {},
   "source": [
    "En realidad, un `ndarray` es un bloque de memoria con información extra sobre como interpretar su contenido. La memoria dinámica (RAM) se puede considerar como un 'churro' lineal y es por ello que necesitamos esa información extra para saber como formar ese `ndarray`, sobre todo la información de `shape` y `strides`.\n",
    "\n",
    "Esta parte va a ser un poco más esotérica para los no iniciados pero considero que es necesaria para poder entender mejor nuestra nueva estructura de datos y poder sacarle mejor partido."
   ]
  },
  {
   "cell_type": "code",
   "execution_count": 110,
   "metadata": {
    "collapsed": true
   },
   "outputs": [],
   "source": [
    "a = np.random.randn(5000, 5000)"
   ]
  },
  {
   "cell_type": "markdown",
   "metadata": {},
   "source": [
    "El número de dimensiones del `ndarray`"
   ]
  },
  {
   "cell_type": "code",
   "execution_count": 111,
   "metadata": {},
   "outputs": [
    {
     "data": {
      "text/plain": [
       "2"
      ]
     },
     "execution_count": 111,
     "metadata": {},
     "output_type": "execute_result"
    }
   ],
   "source": [
    "a.ndim"
   ]
  },
  {
   "cell_type": "markdown",
   "metadata": {},
   "source": [
    "El número de elementos en cada una de las dimensiones"
   ]
  },
  {
   "cell_type": "code",
   "execution_count": 112,
   "metadata": {},
   "outputs": [
    {
     "data": {
      "text/plain": [
       "(5000, 5000)"
      ]
     },
     "execution_count": 112,
     "metadata": {},
     "output_type": "execute_result"
    }
   ],
   "source": [
    "a.shape"
   ]
  },
  {
   "cell_type": "markdown",
   "metadata": {},
   "source": [
    "El número de elementos"
   ]
  },
  {
   "cell_type": "code",
   "execution_count": 113,
   "metadata": {},
   "outputs": [
    {
     "data": {
      "text/plain": [
       "25000000"
      ]
     },
     "execution_count": 113,
     "metadata": {},
     "output_type": "execute_result"
    }
   ],
   "source": [
    "a.size"
   ]
  },
  {
   "cell_type": "markdown",
   "metadata": {},
   "source": [
    "El tipo de datos de los elementos"
   ]
  },
  {
   "cell_type": "code",
   "execution_count": 114,
   "metadata": {},
   "outputs": [
    {
     "data": {
      "text/plain": [
       "dtype('float64')"
      ]
     },
     "execution_count": 114,
     "metadata": {},
     "output_type": "execute_result"
    }
   ],
   "source": [
    "a.dtype"
   ]
  },
  {
   "cell_type": "markdown",
   "metadata": {},
   "source": [
    "El número de bytes de cada elemento"
   ]
  },
  {
   "cell_type": "code",
   "execution_count": 115,
   "metadata": {},
   "outputs": [
    {
     "data": {
      "text/plain": [
       "8"
      ]
     },
     "execution_count": 115,
     "metadata": {},
     "output_type": "execute_result"
    }
   ],
   "source": [
    "a.itemsize"
   ]
  },
  {
   "cell_type": "markdown",
   "metadata": {},
   "source": [
    "El número de bytes que ocupa el `ndarray` (es lo mismo que `size` por `itemsize`)"
   ]
  },
  {
   "cell_type": "code",
   "execution_count": 116,
   "metadata": {},
   "outputs": [
    {
     "data": {
      "text/plain": [
       "200000000"
      ]
     },
     "execution_count": 116,
     "metadata": {},
     "output_type": "execute_result"
    }
   ],
   "source": [
    "a.nbytes"
   ]
  },
  {
   "cell_type": "markdown",
   "metadata": {},
   "source": [
    "El *buffer* que contiene los elementos del `ndarray`"
   ]
  },
  {
   "cell_type": "code",
   "execution_count": 117,
   "metadata": {},
   "outputs": [
    {
     "data": {
      "text/plain": [
       "<memory at 0x063B6288>"
      ]
     },
     "execution_count": 117,
     "metadata": {},
     "output_type": "execute_result"
    }
   ],
   "source": [
    "a.data"
   ]
  },
  {
   "cell_type": "markdown",
   "metadata": {},
   "source": [
    "Pasos a dar en cada dimensión cuando nos movemos entre elementos"
   ]
  },
  {
   "cell_type": "code",
   "execution_count": 118,
   "metadata": {},
   "outputs": [
    {
     "data": {
      "text/plain": [
       "(40000, 8)"
      ]
     },
     "execution_count": 118,
     "metadata": {},
     "output_type": "execute_result"
    }
   ],
   "source": [
    "a.strides"
   ]
  },
  {
   "cell_type": "markdown",
   "metadata": {},
   "source": [
    "![strides](../../images/03_02_strides.svg)\n",
    "***(imagen extraída [de GitHub](https://github.com/btel/2016-erlangen-euroscipy-advanced-numpy)).***"
   ]
  },
  {
   "cell_type": "markdown",
   "metadata": {},
   "source": [
    "Más cosas"
   ]
  },
  {
   "cell_type": "code",
   "execution_count": 119,
   "metadata": {},
   "outputs": [
    {
     "data": {
      "text/plain": [
       "  C_CONTIGUOUS : True\n",
       "  F_CONTIGUOUS : False\n",
       "  OWNDATA : True\n",
       "  WRITEABLE : True\n",
       "  ALIGNED : True\n",
       "  UPDATEIFCOPY : False"
      ]
     },
     "execution_count": 119,
     "metadata": {},
     "output_type": "execute_result"
    }
   ],
   "source": [
    "a.flags"
   ]
  },
  {
   "cell_type": "markdown",
   "metadata": {},
   "source": [
    "Pequeño ejercicio, ¿por qué tarda menos en sumar elementos en una dimensión que en otra si es un array regular?"
   ]
  },
  {
   "cell_type": "code",
   "execution_count": 120,
   "metadata": {},
   "outputs": [
    {
     "name": "stdout",
     "output_type": "stream",
     "text": [
      "22.7 ms ± 443 µs per loop (mean ± std. dev. of 7 runs, 10 loops each)\n",
      "40.1 ms ± 346 µs per loop (mean ± std. dev. of 7 runs, 10 loops each)\n"
     ]
    }
   ],
   "source": [
    "%timeit a.sum(axis=0)\n",
    "%timeit a.sum(axis=1)"
   ]
  },
  {
   "cell_type": "markdown",
   "metadata": {},
   "source": [
    "Pequeño ejercicio, ¿por qué ahora el resultado es diferente?"
   ]
  },
  {
   "cell_type": "code",
   "execution_count": 121,
   "metadata": {},
   "outputs": [
    {
     "name": "stdout",
     "output_type": "stream",
     "text": [
      "41.2 ms ± 1.3 ms per loop (mean ± std. dev. of 7 runs, 10 loops each)\n",
      "22.5 ms ± 597 µs per loop (mean ± std. dev. of 7 runs, 10 loops each)\n"
     ]
    }
   ],
   "source": [
    "aT = a.T\n",
    "%timeit aT.sum(axis=0)\n",
    "%timeit aT.sum(axis=1)"
   ]
  },
  {
   "cell_type": "code",
   "execution_count": 122,
   "metadata": {},
   "outputs": [
    {
     "data": {
      "text/plain": [
       "  C_CONTIGUOUS : False\n",
       "  F_CONTIGUOUS : True\n",
       "  OWNDATA : False\n",
       "  WRITEABLE : True\n",
       "  ALIGNED : True\n",
       "  UPDATEIFCOPY : False"
      ]
     },
     "execution_count": 122,
     "metadata": {},
     "output_type": "execute_result"
    }
   ],
   "source": [
    "print(aT.strides)\n",
    "print(aT.flags)"
   ]
  },
  {
   "cell_type": "code",
   "execution_count": 126,
   "metadata": {},
   "outputs": [
    {
     "name": "stdout",
     "output_type": "stream",
     "text": [
      "[1 1 1 2 2 2 3 3 3]\n",
      "\n",
      "[[1 1 1]\n",
      " [2 2 2]\n",
      " [3 3 3]]\n",
      "\n",
      "[6 6 6]\n",
      "\n",
      "[3 6 9]\n"
     ]
    }
   ],
   "source": [
    "print(np.repeat((1,2,3), 3))\n",
    "print()\n",
    "a = np.repeat((1,2,3), 3).reshape(3, 3)\n",
    "print(a)\n",
    "print()\n",
    "print(a.sum(axis=0))\n",
    "print()\n",
    "print(a.sum(axis=1))"
   ]
  },
  {
   "cell_type": "markdown",
   "metadata": {},
   "source": [
    "<div class=\"alert alert-success\">\n",
    "    <p>Referencias:</p>\n",
    "    <p><a href=\"https://docs.scipy.org/doc/numpy/reference/arrays.ndarray.html#internal-memory-layout-of-an-ndarray\">Internal memory layout of an ndarray</a></p>\n",
    "    <p><a href=\"https://docs.scipy.org/doc/numpy/reference/internals.html#multidimensional-array-indexing-order-issues\">multidimensional array indexing order issues</a></p>\n",
    "</div>"
   ]
  },
  {
   "cell_type": "markdown",
   "metadata": {},
   "source": [
    "## Indexación"
   ]
  },
  {
   "cell_type": "markdown",
   "metadata": {},
   "source": [
    "Si ya has trabajado con indexación en estructuras de Python como listas, tuplas o strings la indexación en Numpy te resultará muy familiar. \n",
    "\n",
    "Por ejemplo, por hacer las cosas sencillas, vamos a crear un `ndarray` de 1D:"
   ]
  },
  {
   "cell_type": "code",
   "execution_count": null,
   "metadata": {
    "collapsed": true
   },
   "outputs": [],
   "source": [
    "a = np.arange(10, dtype=np.uint8)\n",
    "print(a)"
   ]
  },
  {
   "cell_type": "code",
   "execution_count": null,
   "metadata": {
    "collapsed": true
   },
   "outputs": [],
   "source": [
    "print(a[:]) # para acceder a todos los elementos\n",
    "print(a[:-1]) # todos los elementos menos el último\n",
    "print(a[1:]) # todos los elementos menos el primero\n",
    "print(a[::2]) # el primer, el tercer, el quinto,..., elemento\n",
    "print(a[3]) # el cuarto elemento\n",
    "print(a[-1:-5:-1]) # ¿?"
   ]
  },
  {
   "cell_type": "code",
   "execution_count": null,
   "metadata": {
    "collapsed": true
   },
   "outputs": [],
   "source": [
    "# Practicad vosotros\n"
   ]
  },
  {
   "cell_type": "markdown",
   "metadata": {},
   "source": [
    "Para *ndarrays* de una dimensión es exactamente igual que si usásemos listas o tuplas de Python:\n",
    "\n",
    "* Primer elemento tiene índice 0\n",
    "* Los índices negativos empiezan a contar desde el final\n",
    "* slices/rebanadas con `[start:stop:step]`"
   ]
  },
  {
   "cell_type": "markdown",
   "metadata": {},
   "source": [
    "Con un `ndarray` de más dimensiones las cosas ya cambian con respecto a Python puro:"
   ]
  },
  {
   "cell_type": "code",
   "execution_count": null,
   "metadata": {
    "collapsed": true
   },
   "outputs": [],
   "source": [
    "a = np.random.randn(10, 2)\n",
    "print(a)"
   ]
  },
  {
   "cell_type": "code",
   "execution_count": null,
   "metadata": {
    "collapsed": true
   },
   "outputs": [],
   "source": [
    "a[1] # ¿Qué nos dará esto?\n",
    "a[1, 1] # Si queremos acceder a un elemento específico hay que dar su posición completa en el ndarray\n",
    "a[::3, 1]"
   ]
  },
  {
   "cell_type": "markdown",
   "metadata": {},
   "source": [
    "Si tenemos dimensiones mayores a 1 es parecido a las listas pero los índices se separan por comas para las nuevas dimensiones.\n",
    "<img src=\"../../images/03_03_arraygraphics_0.png\" width=400px />\n",
    "(imagen extraída de [aquí](https://github.com/gertingold/euroscipy-numpy-tutorial))"
   ]
  },
  {
   "cell_type": "code",
   "execution_count": null,
   "metadata": {
    "collapsed": true
   },
   "outputs": [],
   "source": [
    "a = np.arange(40).reshape(5, 8)\n",
    "print(a)"
   ]
  },
  {
   "cell_type": "code",
   "execution_count": null,
   "metadata": {
    "collapsed": true
   },
   "outputs": [],
   "source": [
    "a[2, -3]"
   ]
  },
  {
   "cell_type": "markdown",
   "metadata": {},
   "source": [
    "Para obtener más de un elemento hacemos *slicing* para cada eje:\n",
    "<img src=\"../../images/03_04_arraygraphics_1.png\" width=400px />\n",
    "(imagen extraída de [aquí](https://github.com/gertingold/euroscipy-numpy-tutorial))"
   ]
  },
  {
   "cell_type": "code",
   "execution_count": null,
   "metadata": {
    "collapsed": true
   },
   "outputs": [],
   "source": [
    "a[:3, :5]"
   ]
  },
  {
   "cell_type": "markdown",
   "metadata": {},
   "source": [
    "El siguiente ejemplo cómo lo podríamos conseguir:\n",
    "<img src=\"../../images/03_06_arraygraphics_2_wo.png\" width=400px />\n",
    "(imagen extraída de [aquí](https://github.com/gertingold/euroscipy-numpy-tutorial))"
   ]
  },
  {
   "cell_type": "code",
   "execution_count": null,
   "metadata": {
    "collapsed": true
   },
   "outputs": [],
   "source": [
    "a[x:x ,x:x]"
   ]
  },
  {
   "cell_type": "markdown",
   "metadata": {},
   "source": [
    "El siguiente ejemplo cómo lo podríamos conseguir:\n",
    "<img src=\"../../images/03_08_arraygraphics_3_wo.png\" width=400px />\n",
    "(imagen extraída de [aquí](https://github.com/gertingold/euroscipy-numpy-tutorial))"
   ]
  },
  {
   "cell_type": "code",
   "execution_count": null,
   "metadata": {
    "collapsed": true
   },
   "outputs": [],
   "source": [
    "a[x:x ,x:x]"
   ]
  },
  {
   "cell_type": "markdown",
   "metadata": {},
   "source": [
    "El siguiente ejemplo cómo lo podríamos conseguir:\n",
    "<img src=\"../../images/03_10_arraygraphics_4_wo.png\" width=400px />\n",
    "(imagen extraída de [aquí](https://github.com/gertingold/euroscipy-numpy-tutorial))"
   ]
  },
  {
   "cell_type": "code",
   "execution_count": null,
   "metadata": {
    "collapsed": true
   },
   "outputs": [],
   "source": [
    "a[x:x ,x:x]"
   ]
  },
  {
   "cell_type": "markdown",
   "metadata": {},
   "source": [
    "El siguiente ejemplo cómo lo podríamos conseguir:\n",
    "<img src=\"../../images/03_12_arraygraphics_5_wo.png\" width=400px />\n",
    "(imagen extraída de [aquí](https://github.com/gertingold/euroscipy-numpy-tutorial))"
   ]
  },
  {
   "cell_type": "code",
   "execution_count": null,
   "metadata": {
    "collapsed": true
   },
   "outputs": [],
   "source": [
    "a[x:x ,x:x]"
   ]
  },
  {
   "cell_type": "markdown",
   "metadata": {},
   "source": [
    "Soluciones a lo anterior:\n",
    "\n",
    "<img src=\"../../images/03_05_arraygraphics_2.png\" width=200px />\n",
    "<img src=\"../../images/03_07_arraygraphics_3.png\" width=200px />\n",
    "<img src=\"../../images/03_09_arraygraphics_4.png\" width=200px />\n",
    "<img src=\"../../images/03_11_arraygraphics_5.png\" width=200px />\n",
    "(imágenes extraídas de [aquí](https://github.com/gertingold/euroscipy-numpy-tutorial))"
   ]
  },
  {
   "cell_type": "markdown",
   "metadata": {},
   "source": [
    "**Fancy indexing**"
   ]
  },
  {
   "cell_type": "markdown",
   "metadata": {},
   "source": [
    "Con *fancy indexing* podemos hacer cosas tan variopintas como:"
   ]
  },
  {
   "cell_type": "markdown",
   "metadata": {},
   "source": [
    "<img src=\"../../images/03_13_arraygraphics_6.png\" width=300px />\n",
    "<img src=\"../../images/03_14_arraygraphics_7.png\" width=300px />\n",
    "(imágenes extraídas de [aquí](https://github.com/gertingold/euroscipy-numpy-tutorial))"
   ]
  },
  {
   "cell_type": "markdown",
   "metadata": {},
   "source": [
    "Es decir, podemos indexar usando `ndarray`s de booleanos, usando listas de índices para extraer elementos concretos de una sola vez.\n",
    "\n",
    "**WARNING: En el momento que usamos *fancy indexing* nos devuelve un nuevo *ndarray* que no tiene porque conservar la estructura original.**"
   ]
  },
  {
   "cell_type": "markdown",
   "metadata": {},
   "source": [
    "Por ejemplo, en el siguiente caso o me devuelve un *ndarray* de dos dimensiones porque la mascara no tiene porqué ser regular y, por tanto, me devuelve solo los valores que cumplen el criterio en un vector (*ndarray* de una dimensión)."
   ]
  },
  {
   "cell_type": "code",
   "execution_count": null,
   "metadata": {
    "collapsed": true
   },
   "outputs": [],
   "source": [
    "a = np.arange(10).reshape(2, 5)\n",
    "print(a)"
   ]
  },
  {
   "cell_type": "code",
   "execution_count": null,
   "metadata": {
    "collapsed": true
   },
   "outputs": [],
   "source": [
    "bool_indexes = (a % 2 == 0)\n",
    "print(bool_indexes)"
   ]
  },
  {
   "cell_type": "code",
   "execution_count": null,
   "metadata": {
    "collapsed": true
   },
   "outputs": [],
   "source": [
    "a[bool_indexes]"
   ]
  },
  {
   "cell_type": "markdown",
   "metadata": {},
   "source": [
    "Sin embargo, sí que lo podríamos usar para modificar el *ndarray* original en base a un criterio y seguir manteniendo la misma forma."
   ]
  },
  {
   "cell_type": "code",
   "execution_count": null,
   "metadata": {
    "collapsed": true
   },
   "outputs": [],
   "source": [
    "a[bool_indexes] = 999\n",
    "print(a)"
   ]
  },
  {
   "cell_type": "markdown",
   "metadata": {},
   "source": [
    "<div class=\"alert alert-success\">\n",
    "    <p>Referencias:</p>\n",
    "    <p><a href=\"https://docs.scipy.org/doc/numpy/reference/arrays.indexing.html#arrays-indexing\">array indexing</a></p>\n",
    "    <p><a href=\"https://docs.scipy.org/doc/numpy/reference/arrays.ndarray.html#indexing-arrays\">indexing arrays</a></p>\n",
    "</div>"
   ]
  },
  {
   "cell_type": "markdown",
   "metadata": {},
   "source": [
    "## Broadcasting"
   ]
  },
  {
   "cell_type": "markdown",
   "metadata": {},
   "source": [
    "Es poible realizar operaciones en *ndarrays* de diferentes tamaños. En algunos casos `numpy` puede transformar estos *ndarrays* automáticamente de forma que todos tienen la misma forma. Esta conversión automática se llama **broadcasting**."
   ]
  },
  {
   "cell_type": "markdown",
   "metadata": {},
   "source": [
    "Normas del Broadcasting\n",
    "\n",
    "Para determinar la interacción entre dos `ndarray`s en Numpy se sigue un conjunto de reglas estrictas:\n",
    "\n",
    "* Regla 1: Si dos `ndarray`s difieren en su número de dimensiones la forma de aquel con menos dimensiones se rellena con 1's a su derecha.\n",
    "- Regla 2: Si la forma de dos `ndarray`s no es la misma en ninguna de sus dimensiones, el `ndarry` con forma igual a 1 en esa dimensión se 'alarga' para tener simulares dimensiones que los del otros `ndarray`.\n",
    "- Regla 3: Si en cualquier dimensión el tamaño no es igual y ninguno de ellos es igual a 1 entonces obtendremos un error.\n",
    "\n",
    "Resumiendo, cuando se opera en dos *ndarrays*, `numpy` compara sus formas (*shapes*) elemento a elemento. Empieza por las dimensiones más a la izquierda y trabaja hacia las siguientes dimensiones. Dos  dimensiones son compatibles cuando\n",
    "\n",
    "    ambas son iguales o\n",
    "    una de ellas es 1\n",
    "\n",
    "Si estas condiciones no se cumplen se lanzará una excepción `ValueError: frames are not aligned` indicando que los *ndarrays* tienen formas incompatibles. El tamaño del *ndarray* resultante es el tamaño máximo a lo largo de cada dimensión de los *ndarrays* de partida."
   ]
  },
  {
   "cell_type": "markdown",
   "metadata": {},
   "source": [
    "De forma más gráfica:\n",
    "\n",
    "![numpy broadcasting in 2D](../../images/03_15_numpy_broadcasting.png)\n",
    "(imagen extraída de [aquí](https://github.com/btel/2016-erlangen-euroscipy-advanced-numpy))\n",
    "\n",
    "```\n",
    "a:      4 x 3     a:      4 x 3      a:      4 x 1\n",
    "b:      4 x 3     b:          3      b:          3\n",
    "result: 4 x 3     result: 4 x 3      result: 4 x 3\n",
    "```\n",
    "\n",
    "Intentemos reproducir los esquemas de la imagen anterior."
   ]
  },
  {
   "cell_type": "code",
   "execution_count": null,
   "metadata": {
    "collapsed": true
   },
   "outputs": [],
   "source": [
    "a = np.repeat((0, 10, 20, 30), 3).reshape(4, 3)\n",
    "b = np.repeat((0, 1, 2), 4).reshape(3,4).T\n",
    "print(a)\n",
    "print(b)\n",
    "print(a + b)"
   ]
  },
  {
   "cell_type": "code",
   "execution_count": null,
   "metadata": {
    "collapsed": true
   },
   "outputs": [],
   "source": [
    "a = np.repeat((0, 10, 20, 30), 3).reshape(4, 3)\n",
    "b = np.array((0, 1, 2))\n",
    "print(a)\n",
    "print(b)\n",
    "print(a + b)"
   ]
  },
  {
   "cell_type": "code",
   "execution_count": null,
   "metadata": {
    "collapsed": true
   },
   "outputs": [],
   "source": [
    "a = np.array((0, 10, 20, 30)).reshape(4,1)\n",
    "b = np.array((0, 1, 2))\n",
    "print(a)\n",
    "print(b)\n",
    "print(a + b)"
   ]
  },
  {
   "cell_type": "markdown",
   "metadata": {},
   "source": [
    "<div class=\"alert alert-success\">\n",
    "    <p>Referencias:</p>\n",
    "    <p><a href=\"https://docs.scipy.org/doc/numpy/user/basics.broadcasting.html\">Basic broadcasting</a></p>\n",
    "    <p><a href=\"http://scipy.github.io/old-wiki/pages/EricsBroadcastingDoc\">Broadcasting more in depth</a></p>\n",
    "</div>"
   ]
  },
  {
   "cell_type": "markdown",
   "metadata": {},
   "source": [
    "## `ndarrays` estructurados y `recarray`s"
   ]
  },
  {
   "cell_type": "markdown",
   "metadata": {},
   "source": [
    "Antes hemos comentado que los `ndarray`s deben ser homogéneos pero era un poco inexacto, en realidad, podemos tener `ndarray`s que tengan diferentes tipos. Estos se llaman `ndarray`s estructurados o `recarray`s.\n",
    "\n",
    "Veamos ejemplos:"
   ]
  },
  {
   "cell_type": "code",
   "execution_count": null,
   "metadata": {
    "collapsed": true
   },
   "outputs": [],
   "source": [
    "nombre = ['paca', 'pancracio', 'nemesia', 'eulogio']\n",
    "edad = [72, 68, 86, 91]\n",
    "a = np.array(np.zeros(4), dtype=[('name', '<S10'), ('age', np.int)])\n",
    "a['name'] = nombre\n",
    "a['age'] = edad\n",
    "print(a)"
   ]
  },
  {
   "cell_type": "markdown",
   "metadata": {},
   "source": [
    "Podemos acceder a las columnas por nombre"
   ]
  },
  {
   "cell_type": "code",
   "execution_count": null,
   "metadata": {
    "collapsed": true
   },
   "outputs": [],
   "source": [
    "a['name']"
   ]
  },
  {
   "cell_type": "markdown",
   "metadata": {},
   "source": [
    "A todos los elementos menos el primero"
   ]
  },
  {
   "cell_type": "code",
   "execution_count": null,
   "metadata": {
    "collapsed": true
   },
   "outputs": [],
   "source": [
    "a['age'][1:]"
   ]
  },
  {
   "cell_type": "markdown",
   "metadata": {},
   "source": [
    "Un `recarray` es similar pero podemos acceder a los campos con notación de punto (*dot notation*)."
   ]
  },
  {
   "cell_type": "code",
   "execution_count": null,
   "metadata": {
    "collapsed": true
   },
   "outputs": [],
   "source": [
    "ra = a.view(np.recarray)"
   ]
  },
  {
   "cell_type": "code",
   "execution_count": null,
   "metadata": {
    "collapsed": true
   },
   "outputs": [],
   "source": [
    "ra.name"
   ]
  },
  {
   "cell_type": "markdown",
   "metadata": {},
   "source": [
    "Esto introduce un poco de *overhead* para acceder ya que se realizan algunas operaciones de más."
   ]
  },
  {
   "cell_type": "markdown",
   "metadata": {},
   "source": [
    "## Subarrays, vistas y copias"
   ]
  },
  {
   "cell_type": "markdown",
   "metadata": {},
   "source": [
    "**¡IMPORTANTE!**\n",
    "\n",
    "Vistas y copias: `numpy`, por defecto, siempre devuelve vistas para evitar incrementos innecesarios de memoria. Este comportamiento difiere del de Python puro donde una rebanada (*slicing*) de una lista devuelve una copia. Si queremos una copia de un `ndarray` debemos obtenerla de forma explícita:"
   ]
  },
  {
   "cell_type": "code",
   "execution_count": null,
   "metadata": {
    "collapsed": true
   },
   "outputs": [],
   "source": [
    "a = np.arange(10)\n",
    "b = a[2:5]\n",
    "print(a)\n",
    "print(b)"
   ]
  },
  {
   "cell_type": "code",
   "execution_count": null,
   "metadata": {
    "collapsed": true
   },
   "outputs": [],
   "source": [
    "b[0] = 222\n",
    "print(a)\n",
    "print(b)"
   ]
  },
  {
   "cell_type": "markdown",
   "metadata": {},
   "source": [
    "Este comportamiento por defecto es realmente muy útil, significa que, trabajando con grandes conjuntos de datos, podemos acceder y procesar piezas de estos conjuntos de datos sin necesidad de copiar el buffer de datos original."
   ]
  },
  {
   "cell_type": "markdown",
   "metadata": {},
   "source": [
    "A veces, es necesario crear una copia. Esto se puede realizar fácilmente usando el método `copy` de los *ndarrays*. El ejemplo anterior usando una copia en lugar de una vista:"
   ]
  },
  {
   "cell_type": "code",
   "execution_count": null,
   "metadata": {
    "collapsed": true
   },
   "outputs": [],
   "source": [
    "a = np.arange(10)\n",
    "b = a[2:5].copy()\n",
    "print(a)\n",
    "print(b)\n",
    "b[0] = 222\n",
    "print(a)\n",
    "print(b)"
   ]
  },
  {
   "cell_type": "markdown",
   "metadata": {},
   "source": [
    "## ¿Cómo funcionan los ejes en un `ndarray`?"
   ]
  },
  {
   "cell_type": "markdown",
   "metadata": {},
   "source": [
    "Por ejemplo, cuando hacemos `a.sum()`, `a.sum(axis=0)`, `a.sum(axis=1)`.\n",
    "\n",
    "¿Qué pasa si tenemos más de dos dimensiones?\n",
    "\n",
    "Vamos a ver ejemplos:"
   ]
  },
  {
   "cell_type": "code",
   "execution_count": null,
   "metadata": {
    "collapsed": true
   },
   "outputs": [],
   "source": [
    "a = np.arange(10).reshape(5,2)"
   ]
  },
  {
   "cell_type": "code",
   "execution_count": null,
   "metadata": {
    "collapsed": true
   },
   "outputs": [],
   "source": [
    "a.shape"
   ]
  },
  {
   "cell_type": "code",
   "execution_count": null,
   "metadata": {
    "collapsed": true
   },
   "outputs": [],
   "source": [
    "a.sum()"
   ]
  },
  {
   "cell_type": "code",
   "execution_count": null,
   "metadata": {
    "collapsed": true
   },
   "outputs": [],
   "source": [
    "a.sum(axis=0)"
   ]
  },
  {
   "cell_type": "code",
   "execution_count": null,
   "metadata": {
    "collapsed": true
   },
   "outputs": [],
   "source": [
    "a.sum(axis=1)"
   ]
  },
  {
   "cell_type": "markdown",
   "metadata": {},
   "source": [
    "![](../../images/03_16_ndarray_axes_2D.png)\n",
    "(imagen extraída de [aquí](https://github.com/gertingold/euroscipy-numpy-tutorial))"
   ]
  },
  {
   "cell_type": "code",
   "execution_count": null,
   "metadata": {
    "collapsed": true
   },
   "outputs": [],
   "source": [
    "a = np.arange(9).reshape(3, 3)\n",
    "print(a)\n",
    "print(a.sum(axis=0))\n",
    "print(a.sum(axis=1))"
   ]
  },
  {
   "cell_type": "markdown",
   "metadata": {},
   "source": [
    "![](../../images/03_17_ndarray_axes_3D.png)\n",
    "(imagen extraída de [aquí](https://github.com/gertingold/euroscipy-numpy-tutorial))"
   ]
  },
  {
   "cell_type": "code",
   "execution_count": null,
   "metadata": {
    "collapsed": true
   },
   "outputs": [],
   "source": [
    "a = np.arange(24).reshape(2, 3, 4)\n",
    "print(a)\n",
    "print(a.sum(axis=0))\n",
    "print(a.sum(axis=1))\n",
    "print(a.sum(axis=2))"
   ]
  },
  {
   "cell_type": "markdown",
   "metadata": {},
   "source": [
    "Por ejemplo, en el primer caso, `axis=0`, lo que sucede es que cogemos todos los elementos del primer índice y aplicamos la operación para cada uno de los elementos de los otros dos ejes. Hecho de uno en uno sería lo siguiente:"
   ]
  },
  {
   "cell_type": "code",
   "execution_count": null,
   "metadata": {
    "collapsed": true
   },
   "outputs": [],
   "source": [
    "print(a[:,0,0].sum(), a[:,0,1].sum(), a[:,0,2].sum(), a[:,0,3].sum())\n",
    "print(a[:,1,0].sum(), a[:,1,1].sum(), a[:,1,2].sum(), a[:,1,3].sum())\n",
    "print(a[:,2,0].sum(), a[:,2,1].sum(), a[:,2,2].sum(), a[:,2,3].sum())"
   ]
  },
  {
   "cell_type": "markdown",
   "metadata": {},
   "source": [
    "Sin contar el eje que estamos usando las dimensiones que quedan son 3 x 4 (segunda y tercera dimensiones) por lo que el resultado son 12 elementos."
   ]
  },
  {
   "cell_type": "markdown",
   "metadata": {},
   "source": [
    "Para el caso de `axis=1`:"
   ]
  },
  {
   "cell_type": "code",
   "execution_count": null,
   "metadata": {
    "collapsed": true
   },
   "outputs": [],
   "source": [
    "print(a[0,:,0].sum(), a[0,:,1].sum(), a[0,:,2].sum(), a[0,:,3].sum())\n",
    "print(a[1,:,0].sum(), a[1,:,1].sum(), a[1,:,2].sum(), a[1,:,3].sum())"
   ]
  },
  {
   "cell_type": "markdown",
   "metadata": {},
   "source": [
    "Sin contar el eje que estamos usando las dimensiones que quedan son 2 x 4 (primera y tercera dimensiones) por lo que el resultado son 8 elementos."
   ]
  },
  {
   "cell_type": "markdown",
   "metadata": {},
   "source": [
    "Para el caso de `axis=2`:"
   ]
  },
  {
   "cell_type": "code",
   "execution_count": null,
   "metadata": {
    "collapsed": true
   },
   "outputs": [],
   "source": [
    "print(a[0,0,:].sum(), a[0,1,:].sum(), a[0,2,:].sum())\n",
    "print(a[1,0,:].sum(), a[1,1,:].sum(), a[1,2,:].sum())"
   ]
  },
  {
   "cell_type": "markdown",
   "metadata": {},
   "source": [
    "Sin contar el eje que estamos usando las dimensiones que quedan son 2 x 3 (primera y segunda dimensiones) por lo que el resultado son 3 elementos."
   ]
  },
  {
   "cell_type": "markdown",
   "metadata": {
    "collapsed": true
   },
   "source": [
    "## Reformateo de `ndarray`s"
   ]
  },
  {
   "cell_type": "markdown",
   "metadata": {
    "collapsed": true
   },
   "source": [
    "Podemos cambiar la forma de los `ndarray`s usando el método `reshape`. Por ejemplo, si queremos colocar los números del 1 al 9 en un grid  $3 \\times 3$ lo podemos hacer de la siguiente forma:"
   ]
  },
  {
   "cell_type": "code",
   "execution_count": null,
   "metadata": {
    "collapsed": true
   },
   "outputs": [],
   "source": [
    "a = np.arange(1, 10).reshape(3, 3)"
   ]
  },
  {
   "cell_type": "markdown",
   "metadata": {},
   "source": [
    "Para que el cambio de forma no dé errores hemos de tener cuidado en que los tamaños del `ndarray` inicial y del `ndarray` final sean compatibles."
   ]
  },
  {
   "cell_type": "code",
   "execution_count": null,
   "metadata": {
    "collapsed": true
   },
   "outputs": [],
   "source": [
    "# Por ejemplo, lo siguiente dará error?\n",
    "a = np.arange(1, 10). reshape(5, 2)"
   ]
  },
  {
   "cell_type": "markdown",
   "metadata": {},
   "source": [
    "Otro patrón común de cambio de forma sería la conversion de un `ndarray` de 1D en uno de 2D añadiendo un nuevo eje. Lo podemos hacer usando, nuevamente, el método `reshape` o usando `numpy.newaxis`."
   ]
  },
  {
   "cell_type": "code",
   "execution_count": null,
   "metadata": {
    "collapsed": true
   },
   "outputs": [],
   "source": [
    "# Por ejemplo un array 2D de una fila\n",
    "a = np.arange(3)\n",
    "a1_2D = a.reshape(1,3)\n",
    "a2_2D = a[np.newaxis, :]\n",
    "print(a1_2D)\n",
    "print(a1_2D.shape)\n",
    "print(a2_2D)\n",
    "print(a2_2D.shape)"
   ]
  },
  {
   "cell_type": "code",
   "execution_count": null,
   "metadata": {
    "collapsed": true
   },
   "outputs": [],
   "source": [
    "# Por ejemplo un array 2D de una columna\n",
    "a = np.arange(3)\n",
    "a1_2D = a.reshape(3,1)\n",
    "a2_2D = a[:, np.newaxis]\n",
    "print(a1_2D)\n",
    "print(a1_2D.shape)\n",
    "print(a2_2D)\n",
    "print(a2_2D.shape)"
   ]
  },
  {
   "cell_type": "markdown",
   "metadata": {},
   "source": [
    "## Concatenación y partición de `ndarrays`"
   ]
  },
  {
   "cell_type": "markdown",
   "metadata": {},
   "source": [
    "Podemos combinar múltiples *ndarrays* en uno o separar uno en varios.\n",
    "\n",
    "Para concatenar podemos usar `np.concatenate`, `np.hstack`, `np.vstack`, `np.dstack`. Ejemplos:"
   ]
  },
  {
   "cell_type": "code",
   "execution_count": null,
   "metadata": {
    "collapsed": true
   },
   "outputs": [],
   "source": [
    "a = np.array([1, 1, 1, 1])\n",
    "b = np.array([2, 2, 2, 2])"
   ]
  },
  {
   "cell_type": "markdown",
   "metadata": {},
   "source": [
    "Podemos concatenar esos dos arrays usando `np.concatenate`:"
   ]
  },
  {
   "cell_type": "code",
   "execution_count": null,
   "metadata": {
    "collapsed": true
   },
   "outputs": [],
   "source": [
    "np.concatenate([a, b])"
   ]
  },
  {
   "cell_type": "markdown",
   "metadata": {},
   "source": [
    "No solo podemos concatenar *ndarrays* de una sola dimensión:"
   ]
  },
  {
   "cell_type": "code",
   "execution_count": null,
   "metadata": {
    "collapsed": true
   },
   "outputs": [],
   "source": [
    "np.concatenate([a.reshape(2, 2), b.reshape(2, 2)])"
   ]
  },
  {
   "cell_type": "markdown",
   "metadata": {},
   "source": [
    "Podemos elegir sobre qué eje concatenamos:"
   ]
  },
  {
   "cell_type": "code",
   "execution_count": null,
   "metadata": {
    "collapsed": true
   },
   "outputs": [],
   "source": [
    "np.concatenate([a.reshape(2, 2), b.reshape(2, 2)], axis=1)"
   ]
  },
  {
   "cell_type": "markdown",
   "metadata": {},
   "source": [
    "Podemos concatenar más de dos arrays:"
   ]
  },
  {
   "cell_type": "code",
   "execution_count": null,
   "metadata": {
    "collapsed": true
   },
   "outputs": [],
   "source": [
    "c = [3, 3, 3, 3]\n",
    "np.concatenate([a, b, c])"
   ]
  },
  {
   "cell_type": "markdown",
   "metadata": {},
   "source": [
    "Si queremos ser más explícitos podemos usar `np.hstack` o `np.vstack`. La `h` y la `v` son para horizontal y vertical, respectivamente."
   ]
  },
  {
   "cell_type": "code",
   "execution_count": null,
   "metadata": {
    "collapsed": true
   },
   "outputs": [],
   "source": [
    "np.hstack([a, b])"
   ]
  },
  {
   "cell_type": "code",
   "execution_count": null,
   "metadata": {
    "collapsed": true
   },
   "outputs": [],
   "source": [
    "np.vstack([a, b])"
   ]
  },
  {
   "cell_type": "markdown",
   "metadata": {},
   "source": [
    "Podemos concatenar en la tercera dimensión usando `np.dstack`."
   ]
  },
  {
   "cell_type": "markdown",
   "metadata": {},
   "source": [
    "De la misma forma que podemos concatenar podemos partir *ndarrays* usando `np.split`, `np.hsplit`, `np.vsplit`, `np.dsplit`."
   ]
  },
  {
   "cell_type": "code",
   "execution_count": null,
   "metadata": {
    "collapsed": true
   },
   "outputs": [],
   "source": [
    "# Intentamos entender como funciona la partición probando...\n"
   ]
  },
  {
   "cell_type": "markdown",
   "metadata": {},
   "source": [
    "## Funciones matemáticas, funciones universales *ufuncs* y vectorización"
   ]
  },
  {
   "cell_type": "markdown",
   "metadata": {},
   "source": [
    "¿Qué es eso de *ufunc*? \n",
    "\n",
    "De la [documentación oficial de Numpy](http://docs.scipy.org/doc/numpy/reference/ufuncs.html):\n",
    "    \n",
    "> A universal function (or ufunc for short) is a function that operates on ndarrays in an element-by-element fashion, supporting array broadcasting, type casting, and several other standard features. That is, a ufunc is a “**vectorized**” wrapper for a function that takes a **fixed number of scalar inputs** and produces a **fixed number of scalar outputs**.\n",
    "\n",
    "Una *ufunc* es una *Universal function* o función universal que actúa sobre todos los elementos de un  `ndarray`, es decir aplica la funcionalidad sobre cada uno de los elementos del `ndarray`. Esto se conoce como vectorización.\n",
    "\n",
    "Por ejemplo, veamos la operación de elevar al cuadrado una lista en python puro o en `numpy`:"
   ]
  },
  {
   "cell_type": "code",
   "execution_count": null,
   "metadata": {
    "collapsed": true
   },
   "outputs": [],
   "source": [
    "# En Python puro\n",
    "a_list = list(range(10000))\n",
    "\n",
    "%timeit [i ** 2 for i in a_list]"
   ]
  },
  {
   "cell_type": "code",
   "execution_count": null,
   "metadata": {
    "collapsed": true
   },
   "outputs": [],
   "source": [
    "# En numpy\n",
    "an_arr = np.arange(10000)\n",
    "\n",
    "%timeit np.power(an_arr, 2)"
   ]
  },
  {
   "cell_type": "code",
   "execution_count": null,
   "metadata": {
    "collapsed": true
   },
   "outputs": [],
   "source": [
    "a = np.arange(10)\n",
    "\n",
    "np.power(a, 2)"
   ]
  },
  {
   "cell_type": "markdown",
   "metadata": {},
   "source": [
    "La función anterior eleva al cuadrado cada uno de los elementos del `ndarray` anterior.\n",
    "\n",
    "Dentro de `numpy` hay muchísimas *ufuncs* y `scipy` (no lo vamos a ver) dispone de muchas más mucho más especializadas.\n",
    "\n",
    "En `numpy` tenemos, por ejemplo:"
   ]
  },
  {
   "cell_type": "markdown",
   "metadata": {},
   "source": [
    "* Funciones trigonométricas: `sin`, `cos`, `tan`, `arcsin`, `arccos`, `arctan`, `hypot`, `arctan2`, `degrees`, `radians`, `unwrap`, `deg2rad`, `rad2deg`"
   ]
  },
  {
   "cell_type": "code",
   "execution_count": null,
   "metadata": {
    "collapsed": true
   },
   "outputs": [],
   "source": [
    "# juguemos un poco con ellas\n"
   ]
  },
  {
   "cell_type": "markdown",
   "metadata": {},
   "source": [
    "* Funciones hiperbólicas: `sinh`, `cosh`, `tanh`, `arcsinh`, `arccosh`, `arctanh`"
   ]
  },
  {
   "cell_type": "code",
   "execution_count": null,
   "metadata": {
    "collapsed": true
   },
   "outputs": [],
   "source": [
    "# juguemos un poco con ellas\n"
   ]
  },
  {
   "cell_type": "markdown",
   "metadata": {},
   "source": [
    "* Redondeo: `around`, `round_`, `rint`, `fix`, `floor`, `ceil`, `trunc`"
   ]
  },
  {
   "cell_type": "code",
   "execution_count": null,
   "metadata": {
    "collapsed": true
   },
   "outputs": [],
   "source": [
    "# juguemos un poco con ellas\n"
   ]
  },
  {
   "cell_type": "markdown",
   "metadata": {
    "collapsed": true
   },
   "source": [
    "* Sumas, productos, diferencias: `prod`, `sum`, `nansum`, `cumprod`, `cumsum`, `diff`, `ediff1d`, `gradient`, `cross`, `trapz`"
   ]
  },
  {
   "cell_type": "code",
   "execution_count": null,
   "metadata": {
    "collapsed": true
   },
   "outputs": [],
   "source": [
    "# juguemos un poco con ellas\n"
   ]
  },
  {
   "cell_type": "markdown",
   "metadata": {},
   "source": [
    "* Exponentes y logaritmos: `exp`, `expm1`, `exp2`, `log`, `log10`, `log2`, `log1p`, `logaddexp`, `logaddexp2`"
   ]
  },
  {
   "cell_type": "code",
   "execution_count": null,
   "metadata": {
    "collapsed": true
   },
   "outputs": [],
   "source": [
    "# juguemos un poco con ellas\n"
   ]
  },
  {
   "cell_type": "markdown",
   "metadata": {},
   "source": [
    "* Otras funciones especiales: `i0`, `sinc`"
   ]
  },
  {
   "cell_type": "code",
   "execution_count": null,
   "metadata": {
    "collapsed": true
   },
   "outputs": [],
   "source": [
    "# juguemos un poco con ellas\n"
   ]
  },
  {
   "cell_type": "markdown",
   "metadata": {},
   "source": [
    "* Trabajo con decimales: `signbit`, `copysign`, `frexp`, `ldexp`"
   ]
  },
  {
   "cell_type": "code",
   "execution_count": null,
   "metadata": {
    "collapsed": true
   },
   "outputs": [],
   "source": [
    "# juguemos un poco con ellas\n"
   ]
  },
  {
   "cell_type": "markdown",
   "metadata": {},
   "source": [
    "* Operaciones aritméticas: `add`, `reciprocal`, `negative`, `multiply`, `divide`, `power`, `subtract`, `true_divide`, `floor_divide`, `fmod`, `mod`, `modf`, `remainder`"
   ]
  },
  {
   "cell_type": "code",
   "execution_count": null,
   "metadata": {
    "collapsed": true
   },
   "outputs": [],
   "source": [
    "# juguemos un poco con ellas\n"
   ]
  },
  {
   "cell_type": "markdown",
   "metadata": {},
   "source": [
    "* Manejo de números complejos: `angle`, `real`, `imag`, `conj`"
   ]
  },
  {
   "cell_type": "code",
   "execution_count": null,
   "metadata": {
    "collapsed": true
   },
   "outputs": [],
   "source": [
    "# juguemos un poco con ellas\n"
   ]
  },
  {
   "cell_type": "markdown",
   "metadata": {},
   "source": [
    "* Miscelanea: `convolve`, `clip`, `sqrt`, `square`, `absolute`, `fabs`, `sign`, `maximum`, `minimum`, `fmax`, `fmin`, `nan_to_num`, `real_if_close`, `interp`\n",
    "\n",
    "\n",
    "..."
   ]
  },
  {
   "cell_type": "code",
   "execution_count": null,
   "metadata": {
    "collapsed": true
   },
   "outputs": [],
   "source": [
    "# juguemos un poco con ellas\n"
   ]
  },
  {
   "cell_type": "markdown",
   "metadata": {},
   "source": [
    "<div class=\"alert alert-success\">\n",
    "    <p>Referencias:</p>\n",
    "    <p><a href=\"http://docs.scipy.org/doc/numpy/reference/ufuncs.html\">Ufuncs</a></p>\n",
    "</div>"
   ]
  },
  {
   "cell_type": "markdown",
   "metadata": {},
   "source": [
    "## Estadística"
   ]
  },
  {
   "cell_type": "markdown",
   "metadata": {},
   "source": [
    "* Orden: `amin`, `amax`, `nanmin`, `nanmax`, `ptp`, `percentile`, `nanpercentile`\n",
    "\n",
    "\n",
    "* Medias y varianzas: `median`, `average`, `mean`, `std`, `var`, `nanmedian`, `nanmean`, `nanstd`, `nanvar`\n",
    "\n",
    "\n",
    "* Correlacionando: `corrcoef`, `correlate`, `cov`\n",
    "\n",
    "\n",
    "* Histogramas: `histogram`, `histogram2d`, `histogramdd`, `bincount`, `digitize`\n",
    "\n",
    "..."
   ]
  },
  {
   "cell_type": "code",
   "execution_count": null,
   "metadata": {
    "collapsed": true
   },
   "outputs": [],
   "source": [
    "# juguemos un poco con ellas\n"
   ]
  },
  {
   "cell_type": "markdown",
   "metadata": {},
   "source": [
    "## Ordenando, buscando y contando"
   ]
  },
  {
   "cell_type": "markdown",
   "metadata": {},
   "source": [
    "* Ordenando: `sort`, `lexsort`, `argsort`, `ndarray.sort`, `msort`, `sort_complex`, `partition`, `argpartition`\n",
    "\n",
    "\n",
    "* Buscando: `argmax`, `nanargmax`, `argmin`, `nanargmin`, `argwhere`, `nonzero`, `flatnonzero`, `where`, `searchsorted`, `extract`\n",
    "\n",
    "\n",
    "* Contando: `count_nonzero`\n",
    "\n",
    "..."
   ]
  },
  {
   "cell_type": "code",
   "execution_count": null,
   "metadata": {
    "collapsed": true
   },
   "outputs": [],
   "source": [
    "# juguemos un poco con ellas\n"
   ]
  },
  {
   "cell_type": "markdown",
   "metadata": {},
   "source": [
    "## Polinomios"
   ]
  },
  {
   "cell_type": "markdown",
   "metadata": {},
   "source": [
    "* Series de potencias: `numpy.polynomial.polynomial`\n",
    "\n",
    "\n",
    "* Clase Polynomial: `np.polynomial.Polynomial`\n",
    "\n",
    "\n",
    "* Básicos: `polyval`, `polyval2d`, `polyval3d`, `polygrid2d`, `polygrid3d`, `polyroots`, `polyfromroots`\n",
    "\n",
    "\n",
    "* Ajuste: `polyfit`, `polyvander`, `polyvander2d`, `polyvander3d`\n",
    "\n",
    "\n",
    "* Cálculo: `polyder`, `polyint`\n",
    "\n",
    "\n",
    "* Álgebra: `polyadd`, `polysub`, `polymul`, `polymulx`, `polydiv`, `polypow`\n",
    "\n",
    "\n",
    "* Miscelánea: `polycompanion`, `polydomain`, `polyzero`, `polyone`, `polyx`, `polytrim`, `polyline`\n",
    "\n",
    "\n",
    "* Otras funciones polinómicas: `Chebyshev`, `Legendre`, `Laguerre`, `Hermite`\n",
    "\n",
    "..."
   ]
  },
  {
   "cell_type": "code",
   "execution_count": null,
   "metadata": {
    "collapsed": true
   },
   "outputs": [],
   "source": [
    "# juguemos un poco con ellas\n"
   ]
  },
  {
   "cell_type": "markdown",
   "metadata": {},
   "source": [
    "## Álgebra lineal"
   ]
  },
  {
   "cell_type": "markdown",
   "metadata": {},
   "source": [
    "Lo siguiente que se encuentra dentro de `numpy.linalg` vendrá precedido por `LA`.\n",
    "\n",
    "* Productos para vectores y matrices: `dot`, `vdot`, `inner`, `outer`, `matmul`, `tensordot`, `einsum`, `LA.matrix_power`, `kron`\n",
    "\n",
    "\n",
    "* Descomposiciones: `LA.cholesky`, `LA.qr`, `LA.svd`\n",
    "\n",
    "\n",
    "* Eigenvalores: `LA.eig`, `LA.eigh`, `LA.eigvals`, `LA.eigvalsh`\n",
    "\n",
    "\n",
    "* Normas y otros números: `LA.norm`, `LA.cond`, `LA.det`, `LA.matrix_rank`, `LA.slogdet`, `trace`\n",
    "\n",
    "\n",
    "* Resolución de ecuaciones e inversión de matrices: `LA.solve`, `LA.tensorsolve`, `LA.lstsq`, `LA.inv`, `LA.pinv`, `LA.tensorinv`\n",
    "\n",
    "\n",
    "Dentro de `scipy` tenemos más cosas relacionadas."
   ]
  },
  {
   "cell_type": "code",
   "execution_count": null,
   "metadata": {
    "collapsed": true
   },
   "outputs": [],
   "source": [
    "# juguemos un poco con ellas\n"
   ]
  },
  {
   "cell_type": "markdown",
   "metadata": {},
   "source": [
    "## Manipulación de `ndarrays`"
   ]
  },
  {
   "cell_type": "code",
   "execution_count": null,
   "metadata": {
    "collapsed": true
   },
   "outputs": [],
   "source": [
    "`tile`, `hstack`, `vstack`, `dstack`, `hsplit`, `vsplit`, `dsplit`, `repeat`, `reshape`, `ravel`, `resize`,..."
   ]
  },
  {
   "cell_type": "code",
   "execution_count": null,
   "metadata": {
    "collapsed": true
   },
   "outputs": [],
   "source": [
    "# juguemos un poco con ellas\n"
   ]
  },
  {
   "cell_type": "markdown",
   "metadata": {},
   "source": [
    "## Manejo de valores especiales"
   ]
  },
  {
   "cell_type": "markdown",
   "metadata": {},
   "source": [
    "`numpy` provee de varios valores especiales: `np.nan`, `np.Inf`, `np.Infinity`, `np.inf`, `np.infty`,..."
   ]
  },
  {
   "cell_type": "code",
   "execution_count": null,
   "metadata": {
    "collapsed": true
   },
   "outputs": [],
   "source": [
    "a = 1 / np.arange(10)\n",
    "print(a)"
   ]
  },
  {
   "cell_type": "code",
   "execution_count": null,
   "metadata": {
    "collapsed": true
   },
   "outputs": [],
   "source": [
    "a[0] == np.inf"
   ]
  },
  {
   "cell_type": "code",
   "execution_count": null,
   "metadata": {
    "collapsed": true
   },
   "outputs": [],
   "source": [
    "a.max() # Esto no es lo que queremos"
   ]
  },
  {
   "cell_type": "code",
   "execution_count": null,
   "metadata": {
    "collapsed": true
   },
   "outputs": [],
   "source": [
    "a.mean() # Esto no es lo que queremos"
   ]
  },
  {
   "cell_type": "code",
   "execution_count": null,
   "metadata": {
    "collapsed": true
   },
   "outputs": [],
   "source": [
    "a[np.isfinite(a)].max()"
   ]
  },
  {
   "cell_type": "code",
   "execution_count": null,
   "metadata": {
    "collapsed": true
   },
   "outputs": [],
   "source": [
    "a[-1] = np.nan\n",
    "print(a)"
   ]
  },
  {
   "cell_type": "code",
   "execution_count": null,
   "metadata": {
    "collapsed": true
   },
   "outputs": [],
   "source": [
    "a.mean()"
   ]
  },
  {
   "cell_type": "code",
   "execution_count": null,
   "metadata": {
    "collapsed": true
   },
   "outputs": [],
   "source": [
    "np.isnan(a)"
   ]
  },
  {
   "cell_type": "code",
   "execution_count": null,
   "metadata": {
    "collapsed": true
   },
   "outputs": [],
   "source": [
    "np.isfinite(a)"
   ]
  },
  {
   "cell_type": "code",
   "execution_count": null,
   "metadata": {
    "collapsed": true
   },
   "outputs": [],
   "source": [
    "np.isinf(a) # podéis mirar también np.isneginf, np.isposinf"
   ]
  },
  {
   "cell_type": "markdown",
   "metadata": {},
   "source": [
    "`numpy` usa el estándar IEEE de números flotantes para aritmética (IEEE 754). Esto significa que *Not a\n",
    "Number* no es equivalente a *infinity*. También, *positive infinity* no es equivalente a *negative infinity*. Pero *infinity* es equivalente a *positive infinity*."
   ]
  },
  {
   "cell_type": "code",
   "execution_count": null,
   "metadata": {
    "collapsed": true
   },
   "outputs": [],
   "source": [
    "1 < np.inf"
   ]
  },
  {
   "cell_type": "code",
   "execution_count": null,
   "metadata": {
    "collapsed": true
   },
   "outputs": [],
   "source": [
    "1 < -np.inf"
   ]
  },
  {
   "cell_type": "code",
   "execution_count": null,
   "metadata": {
    "collapsed": true
   },
   "outputs": [],
   "source": [
    "1 > -np.inf"
   ]
  },
  {
   "cell_type": "code",
   "execution_count": null,
   "metadata": {
    "collapsed": true
   },
   "outputs": [],
   "source": [
    "1 == np.inf"
   ]
  },
  {
   "cell_type": "code",
   "execution_count": null,
   "metadata": {
    "collapsed": true
   },
   "outputs": [],
   "source": [
    "1 < np.nan"
   ]
  },
  {
   "cell_type": "code",
   "execution_count": null,
   "metadata": {
    "collapsed": true
   },
   "outputs": [],
   "source": [
    "1 > np.nan"
   ]
  },
  {
   "cell_type": "code",
   "execution_count": null,
   "metadata": {
    "collapsed": true
   },
   "outputs": [],
   "source": [
    "1 == np.nan"
   ]
  },
  {
   "cell_type": "markdown",
   "metadata": {},
   "source": [
    "## Módulos de interés dentro de `numpy`"
   ]
  },
  {
   "cell_type": "markdown",
   "metadata": {},
   "source": [
    "Dentro de `numpy` podemos encontrar módulos para:\n",
    "\n",
    "* Usar números aleatorios: `np.random`\n",
    "\n",
    "\n",
    "* Usar FFT: `np.fft`\n",
    "\n",
    "\n",
    "* Usar *masked arrays*: `np.ma`\n",
    "\n",
    "\n",
    "* Usar polinomios: `np.polynomial`\n",
    "\n",
    "\n",
    "* Usar álgebra lineal: `np.linalg`\n",
    "\n",
    "\n",
    "* Usar matrices: `np.matlib`\n",
    "\n",
    "\n",
    "* ...\n",
    "\n",
    "Toda esta funcionalidad se puede ampliar y mejorar usando `scipy`."
   ]
  },
  {
   "cell_type": "markdown",
   "metadata": {},
   "source": [
    "## Cálculo matricial"
   ]
  },
  {
   "cell_type": "code",
   "execution_count": null,
   "metadata": {
    "collapsed": true
   },
   "outputs": [],
   "source": [
    "a1 = np.repeat(2, 9).reshape(3, 3)\n",
    "a2 = np.tile(2, (3, 3))\n",
    "a3 = np.ones((3, 3), dtype=np.int) * 2\n",
    "print(a1)\n",
    "print(a2)\n",
    "print(a3)"
   ]
  },
  {
   "cell_type": "code",
   "execution_count": null,
   "metadata": {
    "collapsed": true
   },
   "outputs": [],
   "source": [
    "b = np.arange(1,4)\n",
    "print(b)"
   ]
  },
  {
   "cell_type": "code",
   "execution_count": null,
   "metadata": {
    "collapsed": true
   },
   "outputs": [],
   "source": [
    "print(a1.dot(b))\n",
    "print(np.dot(a2, b))\n",
    "print(a3 @ b) # only python version >= 3.5"
   ]
  },
  {
   "cell_type": "markdown",
   "metadata": {},
   "source": [
    "Lo anterior lo hemos hecho usando *ndarrays* pero `numpy` también ofrece una estructura de datos `matrix`."
   ]
  },
  {
   "cell_type": "code",
   "execution_count": null,
   "metadata": {
    "collapsed": true
   },
   "outputs": [],
   "source": [
    "a_mat = np.matrix(a1)\n",
    "a_mat"
   ]
  },
  {
   "cell_type": "code",
   "execution_count": null,
   "metadata": {
    "collapsed": true
   },
   "outputs": [],
   "source": [
    "b_mat = np.matrix(b)"
   ]
  },
  {
   "cell_type": "code",
   "execution_count": null,
   "metadata": {
    "collapsed": true
   },
   "outputs": [],
   "source": [
    "a_mat @ b_mat"
   ]
  },
  {
   "cell_type": "code",
   "execution_count": null,
   "metadata": {
    "collapsed": true
   },
   "outputs": [],
   "source": [
    "a_mat @ b_mat.T"
   ]
  },
  {
   "cell_type": "markdown",
   "metadata": {},
   "source": [
    "Como vemos, con los *ndarrays* no hace falta que seamos rigurosos con las dimensiones, en cambio, si usamos `np.matrix` como tipos hemos de realizar operaciones matriciales válidas (por ejemplo, que las dimensiones sean correctas)."
   ]
  },
  {
   "cell_type": "markdown",
   "metadata": {},
   "source": [
    "A efectos prácticos, en general, los *ndarrays* se pueden usar como `matrix` conociendo estas pequeñas cosas."
   ]
  }
 ],
 "metadata": {
  "kernelspec": {
   "display_name": "Python 3",
   "language": "python",
   "name": "python3"
  },
  "language_info": {
   "codemirror_mode": {
    "name": "ipython",
    "version": 3
   },
   "file_extension": ".py",
   "mimetype": "text/x-python",
   "name": "python",
   "nbconvert_exporter": "python",
   "pygments_lexer": "ipython3",
   "version": "3.6.4"
  }
 },
 "nbformat": 4,
 "nbformat_minor": 2
}
