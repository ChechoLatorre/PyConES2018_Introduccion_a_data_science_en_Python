{
 "cells": [
  {
   "cell_type": "code",
   "execution_count": null,
   "metadata": {},
   "outputs": [],
   "source": [
    "import warnings\n",
    "import pandas as pd\n",
    "import numpy as np\n",
    "import matplotlib.pyplot as plt\n",
    "from sklearn import preprocessing\n",
    "import graphviz\n",
    "from sklearn.model_selection import train_test_split\n",
    "from sklearn.tree import DecisionTreeClassifier\n",
    "from sklearn.model_selection import cross_val_score\n",
    "from sklearn.tree import export_graphviz\n",
    "from IPython.display import Image\n",
    "from sklearn.ensemble import RandomForestClassifier\n",
    "from sklearn.metrics import classification_report, accuracy_score, confusion_matrix\n",
    "\n",
    "%matplotlib inline\n"
   ]
  },
  {
   "cell_type": "markdown",
   "metadata": {},
   "source": [
    "#  Cancer  Data Set  "
   ]
  },
  {
   "cell_type": "code",
   "execution_count": null,
   "metadata": {},
   "outputs": [],
   "source": [
    "# Cargamos los datos del fichero CSV\n",
    "cancer_df = pd.read_csv('../../data/06_breast-cancer-wisconsin-data.csv')\n",
    "\n",
    "# Imprimimos los datos cargados con pandas\n",
    "#df.describe()\n",
    "#df = df.set_index('id')\n",
    "cancer_df.info()"
   ]
  },
  {
   "cell_type": "markdown",
   "metadata": {},
   "source": [
    "## Preparamos Datos"
   ]
  },
  {
   "cell_type": "code",
   "execution_count": null,
   "metadata": {},
   "outputs": [],
   "source": [
    "le = preprocessing.LabelEncoder()\n",
    "le.fit(cancer_df['diagnosis'])\n",
    "cancer_df['diagnosis_cod'] = le.transform(cancer_df['diagnosis'])\n",
    "cancer_df = cancer_df.drop(['Unnamed: 32','id','diagnosis'], axis=1)\n",
    "cancer_df\n",
    "#le.inverse_transform(iris_df.species_cod)"
   ]
  },
  {
   "cell_type": "code",
   "execution_count": null,
   "metadata": {},
   "outputs": [],
   "source": [
    "# separamos datos en data y target\n",
    "cancer_data = cancer_df.drop(['diagnosis_cod'], axis=1)\n",
    "cancer_target = cancer_df.diagnosis_cod\n"
   ]
  },
  {
   "cell_type": "code",
   "execution_count": null,
   "metadata": {},
   "outputs": [],
   "source": [
    "# Separamos los Datos.... Entrenamiento y test\n",
    "#?  train_test_split()\n",
    "\n",
    "from sklearn.model_selection import train_test_split\n",
    "X_train, X_test, y_train, y_test = train_test_split(cancer_data, cancer_target,\n",
    "                                                    test_size=0.33,\n",
    "                                                    random_state=None,\n",
    "                                                    shuffle =None)\n",
    "\n",
    "print('Set de datos para Entrenamiento =',len(X_train))\n",
    "print('Set de datos para Test',len(X_test))\n",
    "print('Total',len(X_test)+len(X_train))\n",
    "print('Data Shape=',X_test.shape)\n",
    "print('Target Shape =',y_test.shape)\n",
    "\n",
    "X_train.head()\n",
    "#X_train.columns"
   ]
  },
  {
   "cell_type": "markdown",
   "metadata": {},
   "source": [
    "#  Árbol de Decisión Cancer Data Set "
   ]
  },
  {
   "cell_type": "code",
   "execution_count": null,
   "metadata": {},
   "outputs": [],
   "source": [
    "## Modelo\n",
    "arbol = DecisionTreeClassifier(max_depth=None, criterion='entropy', random_state=4)\n",
    "\n",
    "#? DecisionTreeClassifier"
   ]
  },
  {
   "cell_type": "code",
   "execution_count": null,
   "metadata": {},
   "outputs": [],
   "source": [
    "# ? cross_val_score()\n",
    "cross_val_score(arbol, cancer_data, cancer_target)\n",
    "arbol.fit(X_train,y_train)\n",
    "\n",
    "print (\"Score with data Tes\",arbol.score(X_test,y_test))\n",
    "print (\"Score with data Train\",arbol.score(X_train,y_train))"
   ]
  },
  {
   "cell_type": "code",
   "execution_count": null,
   "metadata": {},
   "outputs": [],
   "source": [
    "from sklearn.tree import export_graphviz\n",
    "import graphviz\n",
    "\n",
    "cancer_target_names = ['M','B']\n",
    "cancer_feature_names =['radius_mean', 'texture_mean', 'perimeter_mean', 'area_mean',\n",
    "       'smoothness_mean', 'compactness_mean', 'concavity_mean',\n",
    "       'concave points_mean', 'symmetry_mean', 'fractal_dimension_mean',\n",
    "       'radius_se', 'texture_se', 'perimeter_se', 'area_se', 'smoothness_se',\n",
    "       'compactness_se', 'concavity_se', 'concave points_se', 'symmetry_se',\n",
    "       'fractal_dimension_se', 'radius_worst', 'texture_worst',\n",
    "       'perimeter_worst', 'area_worst', 'smoothness_worst',\n",
    "       'compactness_worst', 'concavity_worst', 'concave points_worst',\n",
    "       'symmetry_worst', 'fractal_dimension_worst']\n",
    "\n",
    "\n",
    "\n",
    "export_graphviz(arbol,out_file='arbol.dot',\n",
    "                class_names=cancer_target_names,\n",
    "                feature_names=cancer_feature_names,\n",
    "                impurity=False,\n",
    "                filled=True,\n",
    "                rounded=False,\n",
    "                max_depth=None,\n",
    "                rotate=False,\n",
    "               )\n",
    "\n",
    "with open('arbol.dot') as f:\n",
    "    dot_graph = f.read()\n",
    "graphviz.Source(dot_graph)\n",
    "\n",
    "!dot -Tpng arbol.dot -o arbol.png\n",
    "Image('arbol.png', width=2e8)\n"
   ]
  },
  {
   "cell_type": "code",
   "execution_count": null,
   "metadata": {},
   "outputs": [],
   "source": [
    "cara = cancer_data.shape[1]\n",
    "plt.figure(figsize=(25, 10))\n",
    "plt.barh(range(cara),arbol.feature_importances_)\n",
    "plt.yticks(np.arange(cara),cancer_feature_names,fontsize=18)\n",
    "plt.xlabel('Importancia de las Caracteristicas',fontsize=28)\n",
    "plt.ylabel('Caracteristicas',fontsize=20)\n",
    "plt.xticks(fontsize=18)\n",
    "plt.show()"
   ]
  },
  {
   "cell_type": "markdown",
   "metadata": {},
   "source": [
    "#  Alguna Predicción "
   ]
  },
  {
   "cell_type": "code",
   "execution_count": null,
   "metadata": {},
   "outputs": [],
   "source": [
    "# Alguna Predicción....\n",
    "warnings.filterwarnings('ignore')\n",
    "ind = 413\n",
    "a = cancer_data.iloc[ind]\n",
    "b = cancer_target.iloc[ind]\n",
    "new_x = a.values\n",
    "print(a)\n",
    "print('\\ndiagnosis =>',b,le.inverse_transform(b))\n",
    "\n",
    "\n",
    "prediccion = arbol.predict([new_x])\n",
    "#prediccion = arbol.predict(X_test)\n",
    "print('\\npredicción =>',prediccion, le.inverse_transform(prediccion))"
   ]
  },
  {
   "cell_type": "markdown",
   "metadata": {},
   "source": [
    "#  Random Forests  Cancer Data Set "
   ]
  },
  {
   "cell_type": "code",
   "execution_count": null,
   "metadata": {},
   "outputs": [],
   "source": [
    "# ---------------- Random Forests\n",
    "#X_train, X_test, y_train, y_test = train_test_split(cancer.data, cancer.target, random_state=0)\n",
    "\n",
    "forest = RandomForestClassifier(n_estimators=1000, random_state=0)\n",
    "forest.fit(X_train,y_train)\n",
    "\n",
    "#you can tune parameter such as:\n",
    "# - n_job (how many cores)(n_job=-1 => all cores)\n",
    "# - max_depth\n",
    "# - max_feature\n",
    "\n",
    "\n",
    "print('acc for training data: {:.2f}'.format(forest.score(X_train,y_train)))\n",
    "print('acc for test data: {:.2f}'.format(forest.score(X_test,y_test)))\n",
    "\n",
    "\n",
    "# =========================================================================================\n",
    "warnings.filterwarnings('ignore')\n",
    "# Alguna Predicción....\n",
    "ind = 496\n",
    "a = cancer_data.iloc[ind]\n",
    "b = cancer_target.iloc[ind]\n",
    "new_x = a.values\n",
    "print(a)\n",
    "print('\\ndiagnosis =>',b,le.inverse_transform(b))\n",
    "\n",
    "\n",
    "prediccion = forest.predict([new_x])\n",
    "#prediccion = arbol.predict(X_test)\n",
    "print('\\npredicción =>',prediccion, le.inverse_transform(prediccion))"
   ]
  },
  {
   "cell_type": "markdown",
   "metadata": {},
   "source": [
    "#   Diabetes Data Set "
   ]
  },
  {
   "cell_type": "code",
   "execution_count": null,
   "metadata": {},
   "outputs": [],
   "source": [
    "# Cargamos los datos del fichero CSV\n",
    "diabetes_df = pd.read_csv('../../data/06_diabetes.csv')\n",
    "\n",
    "# Imprimimos los datos cargados con pandas\n",
    "#diabetes_df.info()\n",
    "diabetes_df"
   ]
  },
  {
   "cell_type": "code",
   "execution_count": null,
   "metadata": {},
   "outputs": [],
   "source": [
    "# separamos datos en data y target\n",
    "diabetes_data   = diabetes_df.drop(['diagnosis'], axis=1)\n",
    "diabetes_target = diabetes_df.diagnosis"
   ]
  },
  {
   "cell_type": "code",
   "execution_count": null,
   "metadata": {},
   "outputs": [],
   "source": [
    "# Separamos los Datos.... Entrenamiento y test\n",
    "#?  train_test_split()\n",
    "\n",
    "from sklearn.model_selection import train_test_split\n",
    "X_train, X_test, y_train, y_test = train_test_split(diabetes_data, diabetes_target,\n",
    "                                                    test_size=0.33,\n",
    "                                                    random_state=None,\n",
    "                                                    shuffle =None)\n",
    "\n",
    "print('Set de datos para Entrenamiento =',len(X_train))\n",
    "print('Set de datos para Test',len(X_test))\n",
    "print('Total',len(X_test)+len(X_train))\n",
    "print('Data Shape=',X_test.shape)\n",
    "print('Target Shape =',y_test.shape)\n",
    "\n",
    "X_train.head()\n",
    "#X_train.columns"
   ]
  },
  {
   "cell_type": "code",
   "execution_count": null,
   "metadata": {},
   "outputs": [],
   "source": [
    "## Modelo\n",
    "arbol = DecisionTreeClassifier(max_depth=None, criterion='entropy', random_state=4)\n",
    "#arbol = DecisionTreeClassifier()\n",
    "\n",
    "#? DecisionTreeClassifier\n",
    "\n",
    "# ? cross_val_score()\n",
    "cross_val_score(arbol, diabetes_data, diabetes_target)\n",
    "arbol.fit(X_train,y_train)\n",
    "\n",
    "print (\"Score with data Tes\",arbol.score(X_test,y_test))\n",
    "print (\"Score with data Train\",arbol.score(X_train,y_train))"
   ]
  },
  {
   "cell_type": "code",
   "execution_count": null,
   "metadata": {},
   "outputs": [],
   "source": [
    "from sklearn.tree import export_graphviz\n",
    "import graphviz\n",
    "\n",
    "diabetes_target_names = ['0','1']\n",
    "diabetes_feature_names = diabetes_data.columns\n",
    "\n",
    "\n",
    "export_graphviz(arbol,out_file='arbol.dot',\n",
    "                class_names=diabetes_target_names,\n",
    "                feature_names=diabetes_feature_names,\n",
    "                impurity=False,\n",
    "                filled=True,\n",
    "                rounded=False,\n",
    "                max_depth=None,\n",
    "                rotate=False,\n",
    "               )\n",
    "\n",
    "with open('arbol.dot') as f:\n",
    "    dot_graph = f.read()\n",
    "graphviz.Source(dot_graph)\n",
    "\n",
    "\n",
    "\n",
    "!dot -Tpng arbol.dot -o arbol.png\n",
    "Image('arbol.png', width=4e8)\n"
   ]
  },
  {
   "cell_type": "code",
   "execution_count": null,
   "metadata": {
    "scrolled": true
   },
   "outputs": [],
   "source": [
    "cara = diabetes_data.shape[1]\n",
    "plt.figure(figsize=(25, 10))\n",
    "plt.barh(range(cara),arbol.feature_importances_)\n",
    "plt.yticks(np.arange(cara),cancer_feature_names,fontsize=18)\n",
    "plt.xlabel('Importancia de las Caracteristicas',fontsize=28)\n",
    "plt.ylabel('Caracteristicas',fontsize=20)\n",
    "plt.xticks(fontsize=18)\n",
    "plt.show()"
   ]
  },
  {
   "cell_type": "code",
   "execution_count": null,
   "metadata": {},
   "outputs": [],
   "source": [
    "warnings.filterwarnings('ignore')\n",
    "# Alguna Predicción....\n",
    "\n",
    "ind = 58\n",
    "a = diabetes_data.iloc[ind]\n",
    "b = diabetes_target.loc[ind]\n",
    "new_x = a.values\n",
    "print(a)\n",
    "print('\\ndiagnosis =>',b)\n",
    "\n",
    "\n",
    "prediccion = arbol.predict([new_x])\n",
    "#prediccion = arbol.predict(X_test)\n",
    "print('\\npredicción =>',prediccion)"
   ]
  },
  {
   "cell_type": "markdown",
   "metadata": {},
   "source": [
    "#  Random Forests Diabetes Data Set "
   ]
  },
  {
   "cell_type": "code",
   "execution_count": null,
   "metadata": {},
   "outputs": [],
   "source": [
    "# ---------------- Random Forests\n",
    "#X_train, X_test, y_train, y_test = train_test_split(cancer.data, cancer.target, random_state=0)\n",
    "\n",
    "forest = RandomForestClassifier(n_estimators=1000, random_state=0)\n",
    "forest.fit(X_train,y_train)\n",
    "\n",
    "#you can tune parameter such as:\n",
    "# - n_job (how many cores)(n_job=-1 => all cores)\n",
    "# - max_depth\n",
    "# - max_feature\n",
    "\n",
    "\n",
    "print('acc for training data: {:.2f}'.format(forest.score(X_train,y_train)))\n",
    "print('acc for test data: {:.2f}'.format(forest.score(X_test,y_test)))\n"
   ]
  },
  {
   "cell_type": "code",
   "execution_count": null,
   "metadata": {},
   "outputs": [],
   "source": [
    "warnings.filterwarnings('ignore')\n",
    "# Alguna Predicción....\n",
    "\n",
    "ind = 13\n",
    "a = diabetes_data.iloc[ind]\n",
    "b = diabetes_target.iloc[ind]\n",
    "new_x = a.values\n",
    "print(a)\n",
    "print('\\ndiagnosis =>',b)\n",
    "\n",
    "\n",
    "prediccion = forest.predict([new_x])\n",
    "#prediccion = arbol.predict(X_test)\n",
    "print('\\npredicción =>',prediccion)"
   ]
  },
  {
   "cell_type": "code",
   "execution_count": null,
   "metadata": {},
   "outputs": [],
   "source": [
    "\n",
    "\n",
    "p =forest.predict(X_test)\n",
    "\n",
    "\n",
    "print ('Accuracy:', accuracy_score(y_test, p))\n",
    "print ('\\nConfusion Matrix:\\n', confusion_matrix(y_test, p))\n",
    "print ('\\nClassification Report:', classification_report(y_test, p))\n"
   ]
  }
 ],
 "metadata": {
  "kernelspec": {
   "display_name": "Python 3",
   "language": "python",
   "name": "python3"
  },
  "language_info": {
   "codemirror_mode": {
    "name": "ipython",
    "version": 3
   },
   "file_extension": ".py",
   "mimetype": "text/x-python",
   "name": "python",
   "nbconvert_exporter": "python",
   "pygments_lexer": "ipython3",
   "version": "3.5.2"
  }
 },
 "nbformat": 4,
 "nbformat_minor": 2
}
